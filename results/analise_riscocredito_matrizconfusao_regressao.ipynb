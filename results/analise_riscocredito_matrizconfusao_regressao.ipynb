{
  "nbformat": 4,
  "nbformat_minor": 0,
  "metadata": {
    "colab": {
      "provenance": [],
      "collapsed_sections": [
        "S7neJxCVtIya",
        "lb4MCco8bflO",
        "a7csG4xGcfrk",
        "ZFSnK8QpV6-8",
        "F9jRo534gU_G",
        "RpjJGHKQ8Guw"
      ],
      "toc_visible": true
    },
    "kernelspec": {
      "name": "python3",
      "display_name": "Python 3"
    },
    "language_info": {
      "name": "python"
    },
    "widgets": {
      "application/vnd.jupyter.widget-state+json": {
        "022c56276a6f452188996cd3909d8038": {
          "model_module": "@jupyter-widgets/controls",
          "model_name": "VBoxModel",
          "model_module_version": "1.5.0",
          "state": {
            "_dom_classes": [],
            "_model_module": "@jupyter-widgets/controls",
            "_model_module_version": "1.5.0",
            "_model_name": "VBoxModel",
            "_view_count": null,
            "_view_module": "@jupyter-widgets/controls",
            "_view_module_version": "1.5.0",
            "_view_name": "VBoxView",
            "box_style": "",
            "children": [
              "IPY_MODEL_aacb628ffa764c85b5c96e2970d9a683",
              "IPY_MODEL_7c0e1f3d228f48a2958ebb5d6588acbe",
              "IPY_MODEL_192d033bd18c488d84ed0be2a75e9311",
              "IPY_MODEL_e84bbd69142846148e2205f89f22fe48",
              "IPY_MODEL_44cb9017c4b841378105f6beb9c392b5",
              "IPY_MODEL_615af9468aff41b0a19fa2e5bf6a93fe",
              "IPY_MODEL_9f9bc72a7ff8427487e24e5717e39dfd",
              "IPY_MODEL_db561e5a7493406a9a32e322b3442462"
            ],
            "layout": "IPY_MODEL_7134810e454247c1aa5251fce5116123"
          }
        },
        "aacb628ffa764c85b5c96e2970d9a683": {
          "model_module": "@jupyter-widgets/controls",
          "model_name": "IntTextModel",
          "model_module_version": "1.5.0",
          "state": {
            "_dom_classes": [],
            "_model_module": "@jupyter-widgets/controls",
            "_model_module_version": "1.5.0",
            "_model_name": "IntTextModel",
            "_view_count": null,
            "_view_module": "@jupyter-widgets/controls",
            "_view_module_version": "1.5.0",
            "_view_name": "IntTextView",
            "continuous_update": false,
            "description": "Age:",
            "description_tooltip": null,
            "disabled": false,
            "layout": "IPY_MODEL_4a916cd4f3174cdb88a0022cdbaec1ba",
            "step": 1,
            "style": "IPY_MODEL_477d064eaef648d089db26806dba9562",
            "value": 23
          }
        },
        "7c0e1f3d228f48a2958ebb5d6588acbe": {
          "model_module": "@jupyter-widgets/controls",
          "model_name": "FloatTextModel",
          "model_module_version": "1.5.0",
          "state": {
            "_dom_classes": [],
            "_model_module": "@jupyter-widgets/controls",
            "_model_module_version": "1.5.0",
            "_model_name": "FloatTextModel",
            "_view_count": null,
            "_view_module": "@jupyter-widgets/controls",
            "_view_module_version": "1.5.0",
            "_view_name": "FloatTextView",
            "continuous_update": false,
            "description": "Salary:",
            "description_tooltip": null,
            "disabled": false,
            "layout": "IPY_MODEL_1b899cac62a04d78ad8bc3c0a92fbc28",
            "step": null,
            "style": "IPY_MODEL_f9a12d9c248b425eb922440a8ff4fed1",
            "value": 1200
          }
        },
        "192d033bd18c488d84ed0be2a75e9311": {
          "model_module": "@jupyter-widgets/controls",
          "model_name": "FloatTextModel",
          "model_module_version": "1.5.0",
          "state": {
            "_dom_classes": [],
            "_model_module": "@jupyter-widgets/controls",
            "_model_module_version": "1.5.0",
            "_model_name": "FloatTextModel",
            "_view_count": null,
            "_view_module": "@jupyter-widgets/controls",
            "_view_module_version": "1.5.0",
            "_view_name": "FloatTextView",
            "continuous_update": false,
            "description": "Debt Ratio:",
            "description_tooltip": null,
            "disabled": false,
            "layout": "IPY_MODEL_ab55e98822c340deaa0b095995bc0767",
            "step": null,
            "style": "IPY_MODEL_8c003b932ad949d88410f45bbe1e0eb3",
            "value": 0.8
          }
        },
        "e84bbd69142846148e2205f89f22fe48": {
          "model_module": "@jupyter-widgets/controls",
          "model_name": "FloatTextModel",
          "model_module_version": "1.5.0",
          "state": {
            "_dom_classes": [],
            "_model_module": "@jupyter-widgets/controls",
            "_model_module_version": "1.5.0",
            "_model_name": "FloatTextModel",
            "_view_count": null,
            "_view_module": "@jupyter-widgets/controls",
            "_view_module_version": "1.5.0",
            "_view_name": "FloatTextView",
            "continuous_update": false,
            "description": "Using Lines:",
            "description_tooltip": null,
            "disabled": false,
            "layout": "IPY_MODEL_42ca0fdfb4704357991929b761a866a9",
            "step": null,
            "style": "IPY_MODEL_4219dc9a8a734aee9699864c3650265b",
            "value": 5
          }
        },
        "44cb9017c4b841378105f6beb9c392b5": {
          "model_module": "@jupyter-widgets/controls",
          "model_name": "FloatTextModel",
          "model_module_version": "1.5.0",
          "state": {
            "_dom_classes": [],
            "_model_module": "@jupyter-widgets/controls",
            "_model_module_version": "1.5.0",
            "_model_name": "FloatTextModel",
            "_view_count": null,
            "_view_module": "@jupyter-widgets/controls",
            "_view_module_version": "1.5.0",
            "_view_name": "FloatTextView",
            "continuous_update": false,
            "description": "Total Loans:",
            "description_tooltip": null,
            "disabled": false,
            "layout": "IPY_MODEL_1eeb3edbeb5948b5b506377e1f2ca837",
            "step": null,
            "style": "IPY_MODEL_eb3666b91ac44df89ba5cd732c0f82b8",
            "value": 1
          }
        },
        "615af9468aff41b0a19fa2e5bf6a93fe": {
          "model_module": "@jupyter-widgets/controls",
          "model_name": "CheckboxModel",
          "model_module_version": "1.5.0",
          "state": {
            "_dom_classes": [],
            "_model_module": "@jupyter-widgets/controls",
            "_model_module_version": "1.5.0",
            "_model_name": "CheckboxModel",
            "_view_count": null,
            "_view_module": "@jupyter-widgets/controls",
            "_view_module_version": "1.5.0",
            "_view_name": "CheckboxView",
            "description": "90+ Days:",
            "description_tooltip": null,
            "disabled": false,
            "indent": true,
            "layout": "IPY_MODEL_3fed6c2ca161423d85ae82337a790c74",
            "style": "IPY_MODEL_fdc80c7f82be4f16981c3a77285d121a",
            "value": true
          }
        },
        "9f9bc72a7ff8427487e24e5717e39dfd": {
          "model_module": "@jupyter-widgets/controls",
          "model_name": "CheckboxModel",
          "model_module_version": "1.5.0",
          "state": {
            "_dom_classes": [],
            "_model_module": "@jupyter-widgets/controls",
            "_model_module_version": "1.5.0",
            "_model_name": "CheckboxModel",
            "_view_count": null,
            "_view_module": "@jupyter-widgets/controls",
            "_view_module_version": "1.5.0",
            "_view_name": "CheckboxView",
            "description": "Default Flag",
            "description_tooltip": null,
            "disabled": false,
            "indent": true,
            "layout": "IPY_MODEL_efe8bd785ff8478988d29fb46de5f17b",
            "style": "IPY_MODEL_f3229e3d45f5434a9832153332157bab",
            "value": true
          }
        },
        "db561e5a7493406a9a32e322b3442462": {
          "model_module": "@jupyter-widgets/controls",
          "model_name": "ButtonModel",
          "model_module_version": "1.5.0",
          "state": {
            "_dom_classes": [],
            "_model_module": "@jupyter-widgets/controls",
            "_model_module_version": "1.5.0",
            "_model_name": "ButtonModel",
            "_view_count": null,
            "_view_module": "@jupyter-widgets/controls",
            "_view_module_version": "1.5.0",
            "_view_name": "ButtonView",
            "button_style": "",
            "description": "Calcular Risco",
            "disabled": false,
            "icon": "",
            "layout": "IPY_MODEL_b3309c3d5e5744b39282a69994fe63ac",
            "style": "IPY_MODEL_b3768810ed6d420bb4e1763f5784152b",
            "tooltip": ""
          }
        },
        "7134810e454247c1aa5251fce5116123": {
          "model_module": "@jupyter-widgets/base",
          "model_name": "LayoutModel",
          "model_module_version": "1.2.0",
          "state": {
            "_model_module": "@jupyter-widgets/base",
            "_model_module_version": "1.2.0",
            "_model_name": "LayoutModel",
            "_view_count": null,
            "_view_module": "@jupyter-widgets/base",
            "_view_module_version": "1.2.0",
            "_view_name": "LayoutView",
            "align_content": null,
            "align_items": null,
            "align_self": null,
            "border": null,
            "bottom": null,
            "display": null,
            "flex": null,
            "flex_flow": null,
            "grid_area": null,
            "grid_auto_columns": null,
            "grid_auto_flow": null,
            "grid_auto_rows": null,
            "grid_column": null,
            "grid_gap": null,
            "grid_row": null,
            "grid_template_areas": null,
            "grid_template_columns": null,
            "grid_template_rows": null,
            "height": null,
            "justify_content": null,
            "justify_items": null,
            "left": null,
            "margin": null,
            "max_height": null,
            "max_width": null,
            "min_height": null,
            "min_width": null,
            "object_fit": null,
            "object_position": null,
            "order": null,
            "overflow": null,
            "overflow_x": null,
            "overflow_y": null,
            "padding": null,
            "right": null,
            "top": null,
            "visibility": null,
            "width": null
          }
        },
        "4a916cd4f3174cdb88a0022cdbaec1ba": {
          "model_module": "@jupyter-widgets/base",
          "model_name": "LayoutModel",
          "model_module_version": "1.2.0",
          "state": {
            "_model_module": "@jupyter-widgets/base",
            "_model_module_version": "1.2.0",
            "_model_name": "LayoutModel",
            "_view_count": null,
            "_view_module": "@jupyter-widgets/base",
            "_view_module_version": "1.2.0",
            "_view_name": "LayoutView",
            "align_content": null,
            "align_items": null,
            "align_self": null,
            "border": null,
            "bottom": null,
            "display": null,
            "flex": null,
            "flex_flow": null,
            "grid_area": null,
            "grid_auto_columns": null,
            "grid_auto_flow": null,
            "grid_auto_rows": null,
            "grid_column": null,
            "grid_gap": null,
            "grid_row": null,
            "grid_template_areas": null,
            "grid_template_columns": null,
            "grid_template_rows": null,
            "height": null,
            "justify_content": null,
            "justify_items": null,
            "left": null,
            "margin": null,
            "max_height": null,
            "max_width": null,
            "min_height": null,
            "min_width": null,
            "object_fit": null,
            "object_position": null,
            "order": null,
            "overflow": null,
            "overflow_x": null,
            "overflow_y": null,
            "padding": null,
            "right": null,
            "top": null,
            "visibility": null,
            "width": null
          }
        },
        "477d064eaef648d089db26806dba9562": {
          "model_module": "@jupyter-widgets/controls",
          "model_name": "DescriptionStyleModel",
          "model_module_version": "1.5.0",
          "state": {
            "_model_module": "@jupyter-widgets/controls",
            "_model_module_version": "1.5.0",
            "_model_name": "DescriptionStyleModel",
            "_view_count": null,
            "_view_module": "@jupyter-widgets/base",
            "_view_module_version": "1.2.0",
            "_view_name": "StyleView",
            "description_width": ""
          }
        },
        "1b899cac62a04d78ad8bc3c0a92fbc28": {
          "model_module": "@jupyter-widgets/base",
          "model_name": "LayoutModel",
          "model_module_version": "1.2.0",
          "state": {
            "_model_module": "@jupyter-widgets/base",
            "_model_module_version": "1.2.0",
            "_model_name": "LayoutModel",
            "_view_count": null,
            "_view_module": "@jupyter-widgets/base",
            "_view_module_version": "1.2.0",
            "_view_name": "LayoutView",
            "align_content": null,
            "align_items": null,
            "align_self": null,
            "border": null,
            "bottom": null,
            "display": null,
            "flex": null,
            "flex_flow": null,
            "grid_area": null,
            "grid_auto_columns": null,
            "grid_auto_flow": null,
            "grid_auto_rows": null,
            "grid_column": null,
            "grid_gap": null,
            "grid_row": null,
            "grid_template_areas": null,
            "grid_template_columns": null,
            "grid_template_rows": null,
            "height": null,
            "justify_content": null,
            "justify_items": null,
            "left": null,
            "margin": null,
            "max_height": null,
            "max_width": null,
            "min_height": null,
            "min_width": null,
            "object_fit": null,
            "object_position": null,
            "order": null,
            "overflow": null,
            "overflow_x": null,
            "overflow_y": null,
            "padding": null,
            "right": null,
            "top": null,
            "visibility": null,
            "width": null
          }
        },
        "f9a12d9c248b425eb922440a8ff4fed1": {
          "model_module": "@jupyter-widgets/controls",
          "model_name": "DescriptionStyleModel",
          "model_module_version": "1.5.0",
          "state": {
            "_model_module": "@jupyter-widgets/controls",
            "_model_module_version": "1.5.0",
            "_model_name": "DescriptionStyleModel",
            "_view_count": null,
            "_view_module": "@jupyter-widgets/base",
            "_view_module_version": "1.2.0",
            "_view_name": "StyleView",
            "description_width": ""
          }
        },
        "ab55e98822c340deaa0b095995bc0767": {
          "model_module": "@jupyter-widgets/base",
          "model_name": "LayoutModel",
          "model_module_version": "1.2.0",
          "state": {
            "_model_module": "@jupyter-widgets/base",
            "_model_module_version": "1.2.0",
            "_model_name": "LayoutModel",
            "_view_count": null,
            "_view_module": "@jupyter-widgets/base",
            "_view_module_version": "1.2.0",
            "_view_name": "LayoutView",
            "align_content": null,
            "align_items": null,
            "align_self": null,
            "border": null,
            "bottom": null,
            "display": null,
            "flex": null,
            "flex_flow": null,
            "grid_area": null,
            "grid_auto_columns": null,
            "grid_auto_flow": null,
            "grid_auto_rows": null,
            "grid_column": null,
            "grid_gap": null,
            "grid_row": null,
            "grid_template_areas": null,
            "grid_template_columns": null,
            "grid_template_rows": null,
            "height": null,
            "justify_content": null,
            "justify_items": null,
            "left": null,
            "margin": null,
            "max_height": null,
            "max_width": null,
            "min_height": null,
            "min_width": null,
            "object_fit": null,
            "object_position": null,
            "order": null,
            "overflow": null,
            "overflow_x": null,
            "overflow_y": null,
            "padding": null,
            "right": null,
            "top": null,
            "visibility": null,
            "width": null
          }
        },
        "8c003b932ad949d88410f45bbe1e0eb3": {
          "model_module": "@jupyter-widgets/controls",
          "model_name": "DescriptionStyleModel",
          "model_module_version": "1.5.0",
          "state": {
            "_model_module": "@jupyter-widgets/controls",
            "_model_module_version": "1.5.0",
            "_model_name": "DescriptionStyleModel",
            "_view_count": null,
            "_view_module": "@jupyter-widgets/base",
            "_view_module_version": "1.2.0",
            "_view_name": "StyleView",
            "description_width": ""
          }
        },
        "42ca0fdfb4704357991929b761a866a9": {
          "model_module": "@jupyter-widgets/base",
          "model_name": "LayoutModel",
          "model_module_version": "1.2.0",
          "state": {
            "_model_module": "@jupyter-widgets/base",
            "_model_module_version": "1.2.0",
            "_model_name": "LayoutModel",
            "_view_count": null,
            "_view_module": "@jupyter-widgets/base",
            "_view_module_version": "1.2.0",
            "_view_name": "LayoutView",
            "align_content": null,
            "align_items": null,
            "align_self": null,
            "border": null,
            "bottom": null,
            "display": null,
            "flex": null,
            "flex_flow": null,
            "grid_area": null,
            "grid_auto_columns": null,
            "grid_auto_flow": null,
            "grid_auto_rows": null,
            "grid_column": null,
            "grid_gap": null,
            "grid_row": null,
            "grid_template_areas": null,
            "grid_template_columns": null,
            "grid_template_rows": null,
            "height": null,
            "justify_content": null,
            "justify_items": null,
            "left": null,
            "margin": null,
            "max_height": null,
            "max_width": null,
            "min_height": null,
            "min_width": null,
            "object_fit": null,
            "object_position": null,
            "order": null,
            "overflow": null,
            "overflow_x": null,
            "overflow_y": null,
            "padding": null,
            "right": null,
            "top": null,
            "visibility": null,
            "width": null
          }
        },
        "4219dc9a8a734aee9699864c3650265b": {
          "model_module": "@jupyter-widgets/controls",
          "model_name": "DescriptionStyleModel",
          "model_module_version": "1.5.0",
          "state": {
            "_model_module": "@jupyter-widgets/controls",
            "_model_module_version": "1.5.0",
            "_model_name": "DescriptionStyleModel",
            "_view_count": null,
            "_view_module": "@jupyter-widgets/base",
            "_view_module_version": "1.2.0",
            "_view_name": "StyleView",
            "description_width": ""
          }
        },
        "1eeb3edbeb5948b5b506377e1f2ca837": {
          "model_module": "@jupyter-widgets/base",
          "model_name": "LayoutModel",
          "model_module_version": "1.2.0",
          "state": {
            "_model_module": "@jupyter-widgets/base",
            "_model_module_version": "1.2.0",
            "_model_name": "LayoutModel",
            "_view_count": null,
            "_view_module": "@jupyter-widgets/base",
            "_view_module_version": "1.2.0",
            "_view_name": "LayoutView",
            "align_content": null,
            "align_items": null,
            "align_self": null,
            "border": null,
            "bottom": null,
            "display": null,
            "flex": null,
            "flex_flow": null,
            "grid_area": null,
            "grid_auto_columns": null,
            "grid_auto_flow": null,
            "grid_auto_rows": null,
            "grid_column": null,
            "grid_gap": null,
            "grid_row": null,
            "grid_template_areas": null,
            "grid_template_columns": null,
            "grid_template_rows": null,
            "height": null,
            "justify_content": null,
            "justify_items": null,
            "left": null,
            "margin": null,
            "max_height": null,
            "max_width": null,
            "min_height": null,
            "min_width": null,
            "object_fit": null,
            "object_position": null,
            "order": null,
            "overflow": null,
            "overflow_x": null,
            "overflow_y": null,
            "padding": null,
            "right": null,
            "top": null,
            "visibility": null,
            "width": null
          }
        },
        "eb3666b91ac44df89ba5cd732c0f82b8": {
          "model_module": "@jupyter-widgets/controls",
          "model_name": "DescriptionStyleModel",
          "model_module_version": "1.5.0",
          "state": {
            "_model_module": "@jupyter-widgets/controls",
            "_model_module_version": "1.5.0",
            "_model_name": "DescriptionStyleModel",
            "_view_count": null,
            "_view_module": "@jupyter-widgets/base",
            "_view_module_version": "1.2.0",
            "_view_name": "StyleView",
            "description_width": ""
          }
        },
        "3fed6c2ca161423d85ae82337a790c74": {
          "model_module": "@jupyter-widgets/base",
          "model_name": "LayoutModel",
          "model_module_version": "1.2.0",
          "state": {
            "_model_module": "@jupyter-widgets/base",
            "_model_module_version": "1.2.0",
            "_model_name": "LayoutModel",
            "_view_count": null,
            "_view_module": "@jupyter-widgets/base",
            "_view_module_version": "1.2.0",
            "_view_name": "LayoutView",
            "align_content": null,
            "align_items": null,
            "align_self": null,
            "border": null,
            "bottom": null,
            "display": null,
            "flex": null,
            "flex_flow": null,
            "grid_area": null,
            "grid_auto_columns": null,
            "grid_auto_flow": null,
            "grid_auto_rows": null,
            "grid_column": null,
            "grid_gap": null,
            "grid_row": null,
            "grid_template_areas": null,
            "grid_template_columns": null,
            "grid_template_rows": null,
            "height": null,
            "justify_content": null,
            "justify_items": null,
            "left": null,
            "margin": null,
            "max_height": null,
            "max_width": null,
            "min_height": null,
            "min_width": null,
            "object_fit": null,
            "object_position": null,
            "order": null,
            "overflow": null,
            "overflow_x": null,
            "overflow_y": null,
            "padding": null,
            "right": null,
            "top": null,
            "visibility": null,
            "width": null
          }
        },
        "fdc80c7f82be4f16981c3a77285d121a": {
          "model_module": "@jupyter-widgets/controls",
          "model_name": "DescriptionStyleModel",
          "model_module_version": "1.5.0",
          "state": {
            "_model_module": "@jupyter-widgets/controls",
            "_model_module_version": "1.5.0",
            "_model_name": "DescriptionStyleModel",
            "_view_count": null,
            "_view_module": "@jupyter-widgets/base",
            "_view_module_version": "1.2.0",
            "_view_name": "StyleView",
            "description_width": ""
          }
        },
        "efe8bd785ff8478988d29fb46de5f17b": {
          "model_module": "@jupyter-widgets/base",
          "model_name": "LayoutModel",
          "model_module_version": "1.2.0",
          "state": {
            "_model_module": "@jupyter-widgets/base",
            "_model_module_version": "1.2.0",
            "_model_name": "LayoutModel",
            "_view_count": null,
            "_view_module": "@jupyter-widgets/base",
            "_view_module_version": "1.2.0",
            "_view_name": "LayoutView",
            "align_content": null,
            "align_items": null,
            "align_self": null,
            "border": null,
            "bottom": null,
            "display": null,
            "flex": null,
            "flex_flow": null,
            "grid_area": null,
            "grid_auto_columns": null,
            "grid_auto_flow": null,
            "grid_auto_rows": null,
            "grid_column": null,
            "grid_gap": null,
            "grid_row": null,
            "grid_template_areas": null,
            "grid_template_columns": null,
            "grid_template_rows": null,
            "height": null,
            "justify_content": null,
            "justify_items": null,
            "left": null,
            "margin": null,
            "max_height": null,
            "max_width": null,
            "min_height": null,
            "min_width": null,
            "object_fit": null,
            "object_position": null,
            "order": null,
            "overflow": null,
            "overflow_x": null,
            "overflow_y": null,
            "padding": null,
            "right": null,
            "top": null,
            "visibility": null,
            "width": null
          }
        },
        "f3229e3d45f5434a9832153332157bab": {
          "model_module": "@jupyter-widgets/controls",
          "model_name": "DescriptionStyleModel",
          "model_module_version": "1.5.0",
          "state": {
            "_model_module": "@jupyter-widgets/controls",
            "_model_module_version": "1.5.0",
            "_model_name": "DescriptionStyleModel",
            "_view_count": null,
            "_view_module": "@jupyter-widgets/base",
            "_view_module_version": "1.2.0",
            "_view_name": "StyleView",
            "description_width": ""
          }
        },
        "b3309c3d5e5744b39282a69994fe63ac": {
          "model_module": "@jupyter-widgets/base",
          "model_name": "LayoutModel",
          "model_module_version": "1.2.0",
          "state": {
            "_model_module": "@jupyter-widgets/base",
            "_model_module_version": "1.2.0",
            "_model_name": "LayoutModel",
            "_view_count": null,
            "_view_module": "@jupyter-widgets/base",
            "_view_module_version": "1.2.0",
            "_view_name": "LayoutView",
            "align_content": null,
            "align_items": null,
            "align_self": null,
            "border": null,
            "bottom": null,
            "display": null,
            "flex": null,
            "flex_flow": null,
            "grid_area": null,
            "grid_auto_columns": null,
            "grid_auto_flow": null,
            "grid_auto_rows": null,
            "grid_column": null,
            "grid_gap": null,
            "grid_row": null,
            "grid_template_areas": null,
            "grid_template_columns": null,
            "grid_template_rows": null,
            "height": null,
            "justify_content": null,
            "justify_items": null,
            "left": null,
            "margin": null,
            "max_height": null,
            "max_width": null,
            "min_height": null,
            "min_width": null,
            "object_fit": null,
            "object_position": null,
            "order": null,
            "overflow": null,
            "overflow_x": null,
            "overflow_y": null,
            "padding": null,
            "right": null,
            "top": null,
            "visibility": null,
            "width": null
          }
        },
        "b3768810ed6d420bb4e1763f5784152b": {
          "model_module": "@jupyter-widgets/controls",
          "model_name": "ButtonStyleModel",
          "model_module_version": "1.5.0",
          "state": {
            "_model_module": "@jupyter-widgets/controls",
            "_model_module_version": "1.5.0",
            "_model_name": "ButtonStyleModel",
            "_view_count": null,
            "_view_module": "@jupyter-widgets/base",
            "_view_module_version": "1.2.0",
            "_view_name": "StyleView",
            "button_color": null,
            "font_weight": ""
          }
        },
        "a24f10c0fda646958b23f19d800fab5b": {
          "model_module": "@jupyter-widgets/output",
          "model_name": "OutputModel",
          "model_module_version": "1.0.0",
          "state": {
            "_dom_classes": [],
            "_model_module": "@jupyter-widgets/output",
            "_model_module_version": "1.0.0",
            "_model_name": "OutputModel",
            "_view_count": null,
            "_view_module": "@jupyter-widgets/output",
            "_view_module_version": "1.0.0",
            "_view_name": "OutputView",
            "layout": "IPY_MODEL_812c399c995d4576999a592cf4f46a8b",
            "msg_id": "",
            "outputs": [
              {
                "output_type": "stream",
                "name": "stdout",
                "text": [
                  "DADOS DO CLIENTE:\n",
                  "age: 23\n",
                  "last_month_salary: 1200.0\n",
                  "debt_ratio: 0.8\n",
                  "using_lines_not_secured_personal_assets: 5.0\n",
                  "total_loan: 1.0\n",
                  "more_90_days_overdue: True\n",
                  "default_flag: True\n",
                  "\n",
                  "Score: 5\n",
                  "Categoria: Maior Risco de Inadimplência\n"
                ]
              }
            ]
          }
        },
        "812c399c995d4576999a592cf4f46a8b": {
          "model_module": "@jupyter-widgets/base",
          "model_name": "LayoutModel",
          "model_module_version": "1.2.0",
          "state": {
            "_model_module": "@jupyter-widgets/base",
            "_model_module_version": "1.2.0",
            "_model_name": "LayoutModel",
            "_view_count": null,
            "_view_module": "@jupyter-widgets/base",
            "_view_module_version": "1.2.0",
            "_view_name": "LayoutView",
            "align_content": null,
            "align_items": null,
            "align_self": null,
            "border": null,
            "bottom": null,
            "display": null,
            "flex": null,
            "flex_flow": null,
            "grid_area": null,
            "grid_auto_columns": null,
            "grid_auto_flow": null,
            "grid_auto_rows": null,
            "grid_column": null,
            "grid_gap": null,
            "grid_row": null,
            "grid_template_areas": null,
            "grid_template_columns": null,
            "grid_template_rows": null,
            "height": null,
            "justify_content": null,
            "justify_items": null,
            "left": null,
            "margin": null,
            "max_height": null,
            "max_width": null,
            "min_height": null,
            "min_width": null,
            "object_fit": null,
            "object_position": null,
            "order": null,
            "overflow": null,
            "overflow_x": null,
            "overflow_y": null,
            "padding": null,
            "right": null,
            "top": null,
            "visibility": null,
            "width": null
          }
        }
      }
    }
  },
  "cells": [
    {
      "cell_type": "markdown",
      "source": [
        "# Automação do Processo de Análise de Crédito e Risco de Inadimplência de Clientes\n",
        "\n",
        "Entendendo a Classificação de Risco de Crédito: Uma Abordagem Quantitativa com Matriz de Confusão e Regressão"
      ],
      "metadata": {
        "id": "55D4GdeJ9pbZ"
      }
    },
    {
      "cell_type": "markdown",
      "source": [
        "# **Matriz de Confusão**"
      ],
      "metadata": {
        "id": "5kmvY0Claxgp"
      }
    },
    {
      "cell_type": "markdown",
      "source": [
        "A matriz de confusão é uma ferramenta fundamental na avaliação do desempenho de modelos de classificação em aprendizado de máquina. Ela permite visualizar a performance de um modelo ao prever as classes de um conjunto de dados."
      ],
      "metadata": {
        "id": "iLJ20h06D1LB"
      }
    },
    {
      "cell_type": "markdown",
      "source": [
        "###Importação de Bibliotecas"
      ],
      "metadata": {
        "id": "oVCDIwQxzPAr"
      }
    },
    {
      "cell_type": "code",
      "source": [
        "import seaborn as sns #visualização de dados\n",
        "import matplotlib.pyplot as plt #visualização de dados\n",
        "import pandas as pd # manipulação e análise de dados\n",
        "import numpy as np #operações numéricas\n",
        "from sklearn.metrics import confusion_matrix, accuracy_score, precision_score, recall_score, f1_score, classification_report, roc_auc_score, log_loss, roc_curve #avaliação de modelos de classificação\n",
        "from sklearn.ensemble import RandomForestClassifier #classificação de dados\n",
        "from sklearn.model_selection import train_test_split # treina um modelo para fazer previsões\n",
        "from imblearn.over_sampling import SMOTE #técnica de superação de amostras para lidar com conjuntos de dados desbalanceados\n",
        "from sklearn.preprocessing import StandardScaler # normalização de dados\n",
        "from sklearn.linear_model import LogisticRegression #regressão logística para classificação binária\n"
      ],
      "metadata": {
        "id": "_7jdQQuotsKW"
      },
      "execution_count": 2,
      "outputs": []
    },
    {
      "cell_type": "markdown",
      "source": [
        "### Leitura do Dataset\n"
      ],
      "metadata": {
        "id": "00snsbfN1tUd"
      }
    },
    {
      "cell_type": "code",
      "source": [
        "df = pd.read_csv('risk_score.csv')"
      ],
      "metadata": {
        "id": "HcpzFTlO19_3",
        "colab": {
          "base_uri": "https://localhost:8080/",
          "height": 304
        },
        "outputId": "75d6fc7a-70b9-4b51-d5e1-afb7c281bdf7"
      },
      "execution_count": 3,
      "outputs": [
        {
          "output_type": "error",
          "ename": "FileNotFoundError",
          "evalue": "[Errno 2] No such file or directory: 'risk_score.csv'",
          "traceback": [
            "\u001b[0;31m---------------------------------------------------------------------------\u001b[0m",
            "\u001b[0;31mFileNotFoundError\u001b[0m                         Traceback (most recent call last)",
            "\u001b[0;32m<ipython-input-3-9f7625386878>\u001b[0m in \u001b[0;36m<cell line: 1>\u001b[0;34m()\u001b[0m\n\u001b[0;32m----> 1\u001b[0;31m \u001b[0mdf\u001b[0m \u001b[0;34m=\u001b[0m \u001b[0mpd\u001b[0m\u001b[0;34m.\u001b[0m\u001b[0mread_csv\u001b[0m\u001b[0;34m(\u001b[0m\u001b[0;34m'risk_score.csv'\u001b[0m\u001b[0;34m)\u001b[0m\u001b[0;34m\u001b[0m\u001b[0;34m\u001b[0m\u001b[0m\n\u001b[0m",
            "\u001b[0;32m/usr/local/lib/python3.10/dist-packages/pandas/io/parsers/readers.py\u001b[0m in \u001b[0;36mread_csv\u001b[0;34m(filepath_or_buffer, sep, delimiter, header, names, index_col, usecols, dtype, engine, converters, true_values, false_values, skipinitialspace, skiprows, skipfooter, nrows, na_values, keep_default_na, na_filter, verbose, skip_blank_lines, parse_dates, infer_datetime_format, keep_date_col, date_parser, date_format, dayfirst, cache_dates, iterator, chunksize, compression, thousands, decimal, lineterminator, quotechar, quoting, doublequote, escapechar, comment, encoding, encoding_errors, dialect, on_bad_lines, delim_whitespace, low_memory, memory_map, float_precision, storage_options, dtype_backend)\u001b[0m\n\u001b[1;32m    910\u001b[0m     \u001b[0mkwds\u001b[0m\u001b[0;34m.\u001b[0m\u001b[0mupdate\u001b[0m\u001b[0;34m(\u001b[0m\u001b[0mkwds_defaults\u001b[0m\u001b[0;34m)\u001b[0m\u001b[0;34m\u001b[0m\u001b[0;34m\u001b[0m\u001b[0m\n\u001b[1;32m    911\u001b[0m \u001b[0;34m\u001b[0m\u001b[0m\n\u001b[0;32m--> 912\u001b[0;31m     \u001b[0;32mreturn\u001b[0m \u001b[0m_read\u001b[0m\u001b[0;34m(\u001b[0m\u001b[0mfilepath_or_buffer\u001b[0m\u001b[0;34m,\u001b[0m \u001b[0mkwds\u001b[0m\u001b[0;34m)\u001b[0m\u001b[0;34m\u001b[0m\u001b[0;34m\u001b[0m\u001b[0m\n\u001b[0m\u001b[1;32m    913\u001b[0m \u001b[0;34m\u001b[0m\u001b[0m\n\u001b[1;32m    914\u001b[0m \u001b[0;34m\u001b[0m\u001b[0m\n",
            "\u001b[0;32m/usr/local/lib/python3.10/dist-packages/pandas/io/parsers/readers.py\u001b[0m in \u001b[0;36m_read\u001b[0;34m(filepath_or_buffer, kwds)\u001b[0m\n\u001b[1;32m    575\u001b[0m \u001b[0;34m\u001b[0m\u001b[0m\n\u001b[1;32m    576\u001b[0m     \u001b[0;31m# Create the parser.\u001b[0m\u001b[0;34m\u001b[0m\u001b[0;34m\u001b[0m\u001b[0m\n\u001b[0;32m--> 577\u001b[0;31m     \u001b[0mparser\u001b[0m \u001b[0;34m=\u001b[0m \u001b[0mTextFileReader\u001b[0m\u001b[0;34m(\u001b[0m\u001b[0mfilepath_or_buffer\u001b[0m\u001b[0;34m,\u001b[0m \u001b[0;34m**\u001b[0m\u001b[0mkwds\u001b[0m\u001b[0;34m)\u001b[0m\u001b[0;34m\u001b[0m\u001b[0;34m\u001b[0m\u001b[0m\n\u001b[0m\u001b[1;32m    578\u001b[0m \u001b[0;34m\u001b[0m\u001b[0m\n\u001b[1;32m    579\u001b[0m     \u001b[0;32mif\u001b[0m \u001b[0mchunksize\u001b[0m \u001b[0;32mor\u001b[0m \u001b[0miterator\u001b[0m\u001b[0;34m:\u001b[0m\u001b[0;34m\u001b[0m\u001b[0;34m\u001b[0m\u001b[0m\n",
            "\u001b[0;32m/usr/local/lib/python3.10/dist-packages/pandas/io/parsers/readers.py\u001b[0m in \u001b[0;36m__init__\u001b[0;34m(self, f, engine, **kwds)\u001b[0m\n\u001b[1;32m   1405\u001b[0m \u001b[0;34m\u001b[0m\u001b[0m\n\u001b[1;32m   1406\u001b[0m         \u001b[0mself\u001b[0m\u001b[0;34m.\u001b[0m\u001b[0mhandles\u001b[0m\u001b[0;34m:\u001b[0m \u001b[0mIOHandles\u001b[0m \u001b[0;34m|\u001b[0m \u001b[0;32mNone\u001b[0m \u001b[0;34m=\u001b[0m \u001b[0;32mNone\u001b[0m\u001b[0;34m\u001b[0m\u001b[0;34m\u001b[0m\u001b[0m\n\u001b[0;32m-> 1407\u001b[0;31m         \u001b[0mself\u001b[0m\u001b[0;34m.\u001b[0m\u001b[0m_engine\u001b[0m \u001b[0;34m=\u001b[0m \u001b[0mself\u001b[0m\u001b[0;34m.\u001b[0m\u001b[0m_make_engine\u001b[0m\u001b[0;34m(\u001b[0m\u001b[0mf\u001b[0m\u001b[0;34m,\u001b[0m \u001b[0mself\u001b[0m\u001b[0;34m.\u001b[0m\u001b[0mengine\u001b[0m\u001b[0;34m)\u001b[0m\u001b[0;34m\u001b[0m\u001b[0;34m\u001b[0m\u001b[0m\n\u001b[0m\u001b[1;32m   1408\u001b[0m \u001b[0;34m\u001b[0m\u001b[0m\n\u001b[1;32m   1409\u001b[0m     \u001b[0;32mdef\u001b[0m \u001b[0mclose\u001b[0m\u001b[0;34m(\u001b[0m\u001b[0mself\u001b[0m\u001b[0;34m)\u001b[0m \u001b[0;34m->\u001b[0m \u001b[0;32mNone\u001b[0m\u001b[0;34m:\u001b[0m\u001b[0;34m\u001b[0m\u001b[0;34m\u001b[0m\u001b[0m\n",
            "\u001b[0;32m/usr/local/lib/python3.10/dist-packages/pandas/io/parsers/readers.py\u001b[0m in \u001b[0;36m_make_engine\u001b[0;34m(self, f, engine)\u001b[0m\n\u001b[1;32m   1659\u001b[0m                 \u001b[0;32mif\u001b[0m \u001b[0;34m\"b\"\u001b[0m \u001b[0;32mnot\u001b[0m \u001b[0;32min\u001b[0m \u001b[0mmode\u001b[0m\u001b[0;34m:\u001b[0m\u001b[0;34m\u001b[0m\u001b[0;34m\u001b[0m\u001b[0m\n\u001b[1;32m   1660\u001b[0m                     \u001b[0mmode\u001b[0m \u001b[0;34m+=\u001b[0m \u001b[0;34m\"b\"\u001b[0m\u001b[0;34m\u001b[0m\u001b[0;34m\u001b[0m\u001b[0m\n\u001b[0;32m-> 1661\u001b[0;31m             self.handles = get_handle(\n\u001b[0m\u001b[1;32m   1662\u001b[0m                 \u001b[0mf\u001b[0m\u001b[0;34m,\u001b[0m\u001b[0;34m\u001b[0m\u001b[0;34m\u001b[0m\u001b[0m\n\u001b[1;32m   1663\u001b[0m                 \u001b[0mmode\u001b[0m\u001b[0;34m,\u001b[0m\u001b[0;34m\u001b[0m\u001b[0;34m\u001b[0m\u001b[0m\n",
            "\u001b[0;32m/usr/local/lib/python3.10/dist-packages/pandas/io/common.py\u001b[0m in \u001b[0;36mget_handle\u001b[0;34m(path_or_buf, mode, encoding, compression, memory_map, is_text, errors, storage_options)\u001b[0m\n\u001b[1;32m    857\u001b[0m         \u001b[0;32mif\u001b[0m \u001b[0mioargs\u001b[0m\u001b[0;34m.\u001b[0m\u001b[0mencoding\u001b[0m \u001b[0;32mand\u001b[0m \u001b[0;34m\"b\"\u001b[0m \u001b[0;32mnot\u001b[0m \u001b[0;32min\u001b[0m \u001b[0mioargs\u001b[0m\u001b[0;34m.\u001b[0m\u001b[0mmode\u001b[0m\u001b[0;34m:\u001b[0m\u001b[0;34m\u001b[0m\u001b[0;34m\u001b[0m\u001b[0m\n\u001b[1;32m    858\u001b[0m             \u001b[0;31m# Encoding\u001b[0m\u001b[0;34m\u001b[0m\u001b[0;34m\u001b[0m\u001b[0m\n\u001b[0;32m--> 859\u001b[0;31m             handle = open(\n\u001b[0m\u001b[1;32m    860\u001b[0m                 \u001b[0mhandle\u001b[0m\u001b[0;34m,\u001b[0m\u001b[0;34m\u001b[0m\u001b[0;34m\u001b[0m\u001b[0m\n\u001b[1;32m    861\u001b[0m                 \u001b[0mioargs\u001b[0m\u001b[0;34m.\u001b[0m\u001b[0mmode\u001b[0m\u001b[0;34m,\u001b[0m\u001b[0;34m\u001b[0m\u001b[0;34m\u001b[0m\u001b[0m\n",
            "\u001b[0;31mFileNotFoundError\u001b[0m: [Errno 2] No such file or directory: 'risk_score.csv'"
          ]
        }
      ]
    },
    {
      "cell_type": "markdown",
      "source": [
        "###Matriz com resultados que indicam um bom desempenho geral do modelo em termos de exatidão (accuracy), mas a sensibilidade (recall) relativamente baixa."
      ],
      "metadata": {
        "id": "S7neJxCVtIya"
      }
    },
    {
      "cell_type": "code",
      "execution_count": null,
      "metadata": {
        "id": "dMz48GfTL4Ts"
      },
      "outputs": [],
      "source": [
        "# Criação da variável risk_score_binary\n",
        "df['risk_score_binary'] = np.where(df['risk_score'] <= 3, 0, 1)\n",
        "\n",
        "# Divisão em variáveis de entrada (X) e saída (y)\n",
        "# Remoção de user_id, default_flag e risk_score pois não são úteis para a previsão\n",
        "X = df.drop(columns=['user_id', 'default_flag', 'risk_score', 'risk_score_binary'])\n",
        "y = df['default_flag']\n",
        "\n",
        "# Divisão dos dados em treino (80%) e teste (20%)\n",
        "X_train, X_test, y_train, y_test = train_test_split(X, y, test_size=0.2, random_state=42)\n",
        "\n",
        "# Normalização das variáveis de entrada para padronizar os dados\n",
        "scaler = StandardScaler()\n",
        "X_train = scaler.fit_transform(X_train)\n",
        "X_test = scaler.transform(X_test)\n",
        "\n",
        "# Treinamento do modelo RandomForestClassifier usando os dados de treino\n",
        "model = RandomForestClassifier(random_state=42)\n",
        "model.fit(X_train, y_train)\n",
        "\n",
        "# Previsões -> usando o modelo treinado para fazer previsões nos dados de teste\n",
        "y_pred = model.predict(X_test)\n",
        "\n",
        "# Cálculo da matriz de confusão para avaliar a performance do modelo de classificação\n",
        "cm = confusion_matrix(y_test, y_pred)\n",
        "\n",
        "# Métricas de avaliação  do modelo\n",
        "accuracy = accuracy_score(y_test, y_pred)\n",
        "precision = precision_score(y_test, y_pred, average='binary')\n",
        "recall = recall_score(y_test, y_pred, average='binary')\n",
        "f1 = f1_score(y_test, y_pred, average='binary')\n",
        "\n",
        "# Exibir matriz de confusão usando um mapa de calor (heatmap)\n",
        "plt.figure(figsize=(8, 6))\n",
        "sns.heatmap(cm, annot=True, fmt='d', cmap='Blues', xticklabels=['Previsto: Negativo', 'Previsto: Positivo'], yticklabels=['Real: Negativo', 'Real: Positivo'])\n",
        "plt.title('Matriz de Confusão')\n",
        "plt.show()\n",
        "\n",
        "# Exibir matriz de confusão\n",
        "print(\"\\033[1mMatriz de Confusão:\\033[0m\")\n",
        "print(cm)\n",
        "\n",
        "# Exibir as métricas de valiação do modelo\n",
        "print(\"\\n\\033[1mMétricas de Avaliação:\\033[0m\")\n",
        "print(f\"Exatidão (Accuracy): {accuracy:.3f}\")\n",
        "print(f\"Precisão: {precision:.3f}\")\n",
        "print(f\"Sensibilidade (Recall): {recall:.3f}\")\n",
        "print(f\"F1-score: {f1:.3f}\")\n"
      ]
    },
    {
      "cell_type": "markdown",
      "source": [
        "1.   Verdadeiros Negativos (TN): 6951\n",
        "2.   Falsos Positivos (FP): 29\n",
        "3.   Falsos Negativos (FN): 64\n",
        "4.   Verdadeiros Positivos (TP): 71\n",
        "\n",
        "*   A exatidão é alta, indicando que o modelo acerta a maioria das previsões.\n",
        "*   A precisão é boa, significando que, quando o modelo prevê um inadimplente, ele acerta 71% das vezes.\n",
        "*   A sensibilidade está relativamente baixa. Isso significa que o modelo está capturando apenas 52.6% dos inadimplentes reais.\n",
        "*   O F1-score é a média harmônica da precisão e da sensibilidade, o que indica um equilíbrio entre essas duas métricas.\n"
      ],
      "metadata": {
        "id": "MP6UIjTUO1e6"
      }
    },
    {
      "cell_type": "markdown",
      "source": [
        "###Matriz com ajuste do limiar de decisão para melhorar a sensibilidade (recall)."
      ],
      "metadata": {
        "id": "lb4MCco8bflO"
      }
    },
    {
      "cell_type": "markdown",
      "source": [
        "Ajuste do Limiar de Decisão, diminuindo-o para aumentar a sensibilidade (recall) porém a precisão diminuiu um pouco e com dados desbalanceados."
      ],
      "metadata": {
        "id": "5vSSJ5Z-Qb3W"
      }
    },
    {
      "cell_type": "code",
      "source": [
        "# Criação da variável risk_score_binary\n",
        "df['risk_score_binary'] = np.where(df['risk_score'] <= 2, 0, 1)\n",
        "\n",
        "# Divisão em variáveis de entrada (X) e saída (y)\n",
        "X = df.drop(columns=['user_id', 'default_flag', 'risk_score', 'risk_score_binary'])\n",
        "y = df['default_flag']\n",
        "\n",
        "# Divisão dos dados em treino e teste\n",
        "X_train, X_test, y_train, y_test = train_test_split(X, y, test_size=0.2, random_state=42)\n",
        "\n",
        "# Normalização das variáveis de entrada\n",
        "scaler = StandardScaler()\n",
        "X_train = scaler.fit_transform(X_train)\n",
        "X_test = scaler.transform(X_test)\n",
        "\n",
        "# Treinamento do modelo RandomForestClassifier\n",
        "model = RandomForestClassifier(random_state=42)\n",
        "model.fit(X_train, y_train)\n",
        "\n",
        "# Previsões de probabilidade\n",
        "y_prob = model.predict_proba(X_test)[:, 1]\n",
        "\n",
        "# Ajuste do limiar de decisão\n",
        "threshold = 0.3  #o limiar de decisão permite ajustar o equilíbrio entre precisão e recall conforme necessidade\n",
        "y_pred = (y_prob >= threshold).astype(int)\n",
        "\n",
        "# Cálculo da matriz de confusão\n",
        "cm = confusion_matrix(y_test, y_pred)\n",
        "\n",
        "# Métricas de avaliação\n",
        "accuracy = accuracy_score(y_test, y_pred)\n",
        "precision = precision_score(y_test, y_pred)\n",
        "recall = recall_score(y_test, y_pred)\n",
        "f1 = f1_score(y_test, y_pred)\n",
        "\n",
        "# Exibir matriz de confusão\n",
        "plt.figure(figsize=(8, 6))\n",
        "sns.heatmap(cm, annot=True, fmt='d', cmap='Greens', xticklabels=['Previsto: Negativo', 'Previsto: Positivo'], yticklabels=['Real: Negativo', 'Real: Positivo'])\n",
        "plt.title('Matriz de Confusão')\n",
        "plt.show()\n",
        "\n",
        "# Exibir matriz de confusão\n",
        "print(\"\\033[1mMatriz de Confusão:\\033[0m\")\n",
        "print(cm)\n",
        "\n",
        "# Métricas de Avaliação do Modelo\n",
        "print(\"\\n\\033[1mMétricas de Avaliação:\\033[0m\")\n",
        "print(f\"Exatidão (Accuracy): {accuracy:.3f}\")\n",
        "print(f\"Precisão: {precision:.3f}\")\n",
        "print(f\"Sensibilidade (Recall): {recall:.3f}\")\n",
        "print(f\"F1-score: {f1:.3f}\")\n",
        "\n",
        "# Exibir relatório de classificação completo\n",
        "print(\"\\n\\033[1mRelatório de Classificação:\\033[0m\")\n",
        "print(classification_report(y_test, y_pred))\n"
      ],
      "metadata": {
        "id": "5NM4vKuXQn10"
      },
      "execution_count": null,
      "outputs": []
    },
    {
      "cell_type": "markdown",
      "source": [
        "1.  Verdadeiros Negativos (TN): 6911\n",
        "2.  Falsos Positivos (FP): 69\n",
        "3.  Falsos Negativos (FN): 42\n",
        "4.  Verdadeiros Positivos (TP): 93\n",
        "*   A exatidão continua alta, indicando que o modelo está acertando a maioria das previsões.\n",
        "*   A precisão diminuiu um pouco, mas ainda está em um nível aceitável, significando que, quando o modelo prevê um inadimplente, ele acerta 57.4% das vezes.\n",
        "*   A sensibilidade melhorou consideravelmente, indicando que o modelo está capturando 68.9% dos inadimplentes reais.\n",
        "*   O F1-score também melhorou, indicando um equilíbrio entre precisão e sensibilidade."
      ],
      "metadata": {
        "id": "2yJV3uv-Rz5Z"
      }
    },
    {
      "cell_type": "markdown",
      "source": [
        "###Matriz com balanceamento das classes para melhorar o desempenho do modelo."
      ],
      "metadata": {
        "id": "a7csG4xGcfrk"
      }
    },
    {
      "cell_type": "markdown",
      "source": [
        "Classificação de Risco de Crédito usando RandomForestClassifier com SMOTE e normalização.\n",
        "\n",
        "Utilizando técnicas de amostragem para balancear as classes durante o treinamento do modelo, adaptando o código anterior para aplicar a técnica de sobreamostragem (oversampling) utilizando SMOTE para equilibrar as classes, para evitar o viés do modelo em direção à classe majoritária e melhorar a capacidade do modelo de generalizar para exemplos da classe minoritária."
      ],
      "metadata": {
        "id": "a7_v311ETO_8"
      }
    },
    {
      "cell_type": "code",
      "source": [
        "# Criação da variável risk_score_binary\n",
        "df['risk_score_binary'] = np.where(df['risk_score'] <= 2, 0, 1)  #ponto de corte para essa classificação é 2\n",
        "\n",
        "# Divisão em variáveis de entrada (X) e saída (y)\n",
        "X = df.drop(columns=['user_id', 'default_flag', 'risk_score', 'risk_score_binary'])\n",
        "y = df['default_flag']\n",
        "\n",
        "# Divisão dos dados em treino e teste\n",
        "X_train, X_test, y_train, y_test = train_test_split(X, y, test_size=0.2, random_state=42)\n",
        "\n",
        "# Normalização das variáveis de entrada\n",
        "scaler = StandardScaler()\n",
        "X_train = scaler.fit_transform(X_train)\n",
        "X_test = scaler.transform(X_test)\n",
        "\n",
        "# Aplicação da técnica de sobreamostragem SMOTE\n",
        "smote = SMOTE(random_state=42)\n",
        "X_train_resampled, y_train_resampled = smote.fit_resample(X_train, y_train)\n",
        "\n",
        "# Treinamento do modelo RandomForestClassifier\n",
        "model = RandomForestClassifier(random_state=42)\n",
        "model.fit(X_train_resampled, y_train_resampled)\n",
        "\n",
        "# Previsões\n",
        "y_pred = model.predict(X_test)\n",
        "\n",
        "# Cálculo da matriz de confusão\n",
        "cm = confusion_matrix(y_test, y_pred)\n",
        "\n",
        "# Métricas de avaliação\n",
        "accuracy = accuracy_score(y_test, y_pred)\n",
        "precision = precision_score(y_test, y_pred)\n",
        "recall = recall_score(y_test, y_pred)\n",
        "f1 = f1_score(y_test, y_pred)\n",
        "\n",
        "# Exibir matriz de confusão\n",
        "plt.figure(figsize=(8, 6))\n",
        "sns.heatmap(cm, annot=True, fmt='d', cmap='pink', xticklabels=['Previsto: Negativo', 'Previsto: Positivo'], yticklabels=['Real: Negativo', 'Real: Positivo'])\n",
        "plt.title('Matriz de Confusão')\n",
        "plt.show()\n",
        "\n",
        "# Exibir matriz de confusão\n",
        "print(\"\\033[1mMatriz de Confusão:\\033[0m\")\n",
        "print(cm)\n",
        "\n",
        "# Métricas de Avaliação do Modelo\n",
        "print(\"\\n\\033[1mMétricas de Avaliação:\\033[0m\")\n",
        "print(f\"Exatidão (Accuracy): {accuracy:.3f}\")\n",
        "print(f\"Precisão (Precision): {precision:.3f}\")\n",
        "print(f\"Sensibilidade (Recall): {recall:.3f}\")\n",
        "print(f\"F1-score: {f1:.3f}\")\n",
        "\n",
        "# Exibir relatório de classificação completo\n",
        "print(\"\\n\\033[1mRelatório de Classificação:\\033[0m\")\n",
        "print(classification_report(y_test, y_pred))\n"
      ],
      "metadata": {
        "id": "OeOBYTo7Tklh"
      },
      "execution_count": null,
      "outputs": []
    },
    {
      "cell_type": "markdown",
      "source": [
        "**Os resultados mostram uma melhoria significativa na sensibilidade (recall) após a aplicação da técnica de sobreamostragem com SMOTE:**\n",
        "\n",
        "1.  Verdadeiros Negativos (TN): 6881\n",
        "2.  Falsos Positivos (FP): 99\n",
        "3.  Falsos Negativos (FN): 35\n",
        "4.  Verdadeiros Positivos (TP): 100\n",
        "*   A exatidão continua alta, indicando que o modelo está acertando a maioria das previsões.\n",
        "*   A precisão diminuiu um pouco, mas ainda é significativa, significando que, quando o modelo prevê um inadimplente, ele acerta 50.3% das vezes.\n",
        "*   A sensibilidade melhorou bastante, indicando que o modelo está capturando 74.1% dos inadimplentes reais.\n",
        "*   O F1-score também melhorou, indicando um equilíbrio entre precisão e sensibilidade.\n",
        "*   O relatório de classificação mostra as métricas para ambas as classes, assim como a precisão, sensibilidade e F1-score.\n",
        "\n",
        "**Conclusão: O balanceamento das classes com a técnica de sobreamostragem usando SMOTE foi eficaz em melhorar a sensibilidade do modelo, permitindo que ele capture mais casos positivos. Isso é crucial para problemas onde a detecção de casos positivos é de alta importância, como no atual caso de detecção de inadimplência em análises de risco de crédito.**"
      ],
      "metadata": {
        "id": "xJlHjSIXT-T-"
      }
    },
    {
      "cell_type": "markdown",
      "source": [
        "# **Regressão Logística**"
      ],
      "metadata": {
        "id": "wea0Uy7IIqUo"
      }
    },
    {
      "cell_type": "markdown",
      "source": [
        "###Importação de Bibliotecas"
      ],
      "metadata": {
        "id": "kHl_mV5RJ9gA"
      }
    },
    {
      "cell_type": "code",
      "source": [
        "from sklearn.model_selection import train_test_split\n",
        "from sklearn.linear_model import LogisticRegression\n",
        "from sklearn.metrics import confusion_matrix, accuracy_score, precision_score, recall_score, f1_score, classification_report, roc_auc_score, roc_curve, log_loss\n",
        "from sklearn.preprocessing import StandardScaler"
      ],
      "metadata": {
        "id": "8RrJxXhTJ67n"
      },
      "execution_count": null,
      "outputs": []
    },
    {
      "cell_type": "markdown",
      "source": [
        "###Calcular a propensão de um cliente ter risco de crédito usando regressão logística."
      ],
      "metadata": {
        "id": "oQdoS4joJfto"
      }
    },
    {
      "cell_type": "code",
      "source": [
        "# Treinamento do modelo de Regressão Logística\n",
        "logreg = LogisticRegression(random_state=42)\n",
        "logreg.fit(X_train, y_train)\n",
        "\n",
        "# Previsão das probabilidades\n",
        "y_pred_proba = logreg.predict_proba(X_test)[:, 1]\n",
        "\n",
        "# Previsão das classes\n",
        "y_pred = logreg.predict(X_test)\n",
        "\n",
        "# Cálculo da matriz de confusão\n",
        "cm = confusion_matrix(y_test, y_pred)\n",
        "\n",
        "# Métricas de avaliação\n",
        "accuracy = accuracy_score(y_test, y_pred)\n",
        "precision = precision_score(y_test, y_pred)\n",
        "recall = recall_score(y_test, y_pred)\n",
        "f1 = f1_score(y_test, y_pred)\n",
        "roc_auc = roc_auc_score(y_test, y_pred_proba)\n",
        "logloss = log_loss(y_test, y_pred_proba)\n",
        "\n",
        "# Exibir matriz de confusão\n",
        "plt.figure(figsize=(8, 6))\n",
        "sns.heatmap(cm, annot=True, fmt='d', cmap='Blues', xticklabels=['Previsto: Negativo', 'Previsto: Positivo'], yticklabels=['Real: Negativo', 'Real: Positivo'])\n",
        "plt.title('Matriz de Confusão')\n",
        "plt.show()\n",
        "\n",
        "# Exibir matriz de confusão\n",
        "print(\"\\033[1mMatriz de Confusão:\\033[0m\")\n",
        "print(cm)\n",
        "\n",
        "# Métricas de Avaliação do Modelo\n",
        "print(\"\\n\\033[1mMétricas de Avaliação:\\033[0m\")\n",
        "print(f\"Exatidão (Accuracy): {accuracy:.3f}\")\n",
        "print(f\"Precisão (Precision) : {precision:.3f}\")\n",
        "print(f\"Sensibilidade (Recall): {recall:.3f}\")\n",
        "print(f\"F1-score: {f1:.3f}\")\n",
        "print(f\"AUC-ROC: {roc_auc:.3f}\")\n",
        "print(f\"Log-Loss: {logloss:.3f}\")\n",
        "\n",
        "# Exibir relatório de classificação completo\n",
        "print(\"\\n\\033[1mRelatório de Classificação:\\033[0m\")\n",
        "print(classification_report(y_test, y_pred))\n",
        "\n",
        "# Exibir as primeiras 10 probabilidades previstas\n",
        "print(\"\\033[1mPrimeiras 10 probabilidades previstas:\\033[0m\")\n",
        "print(y_pred_proba[:10])\n",
        "\n",
        "# Curva ROC\n",
        "fpr, tpr, thresholds = roc_curve(y_test, y_pred_proba)\n",
        "plt.figure(figsize=(8, 6))\n",
        "plt.plot(fpr, tpr, color='blue', label='ROC curve (area = %0.3f)' % roc_auc)\n",
        "plt.plot([0, 1], [0, 1], color='grey', linestyle='--')\n",
        "plt.xlim([0.0, 1.0])\n",
        "plt.ylim([0.0, 1.05])\n",
        "plt.xlabel('False Positive Rate')\n",
        "plt.ylabel('True Positive Rate')\n",
        "plt.title('Receiver Operating Characteristic (ROC) Curve')\n",
        "plt.legend(loc=\"lower right\")\n",
        "plt.show()\n"
      ],
      "metadata": {
        "colab": {
          "base_uri": "https://localhost:8080/",
          "height": 1000
        },
        "id": "8s0XcLDVJD3l",
        "outputId": "e12fb368-44c7-41af-fb50-3d373301db02"
      },
      "execution_count": null,
      "outputs": [
        {
          "output_type": "display_data",
          "data": {
            "text/plain": [
              "<Figure size 800x600 with 2 Axes>"
            ],
            "image/png": "[encoded data removed]"
          },
          "metadata": {}
        },
        {
          "output_type": "stream",
          "name": "stdout",
          "text": [
            "\u001b[1mMatriz de Confusão:\u001b[0m\n",
            "[[6966   14]\n",
            " [  78   57]]\n",
            "\n",
            "\u001b[1mMétricas de Avaliação:\u001b[0m\n",
            "Exatidão (Accuracy): 0.987\n",
            "Precisão (Precision) : 0.803\n",
            "Sensibilidade (Recall): 0.422\n",
            "F1-score: 0.553\n",
            "AUC-ROC: 0.989\n",
            "Log-Loss: 0.034\n",
            "\n",
            "\u001b[1mRelatório de Classificação:\u001b[0m\n",
            "              precision    recall  f1-score   support\n",
            "\n",
            "           0       0.99      1.00      0.99      6980\n",
            "           1       0.80      0.42      0.55       135\n",
            "\n",
            "    accuracy                           0.99      7115\n",
            "   macro avg       0.90      0.71      0.77      7115\n",
            "weighted avg       0.99      0.99      0.99      7115\n",
            "\n",
            "\u001b[1mPrimeiras 10 probabilidades previstas:\u001b[0m\n",
            "[0.00100339 0.00048051 0.00092371 0.00104814 0.00058231 0.00124246\n",
            " 0.05306144 0.02208551 0.00066616 0.00082418]\n"
          ]
        },
        {
          "output_type": "display_data",
          "data": {
            "text/plain": [
              "<Figure size 800x600 with 1 Axes>"
            ],
            "image/png": "[encoded data removed]"
          },
          "metadata": {}
        }
      ]
    },
    {
      "cell_type": "markdown",
      "source": [
        "Os resultados mostram que o modelo tem uma alta acurácia (98,7%) e uma excelente área sob a curva ROC (AUC-ROC de 0.989), indicando uma forte capacidade de distinguir entre as classes positivas e negativas. No entanto, a sensibilidade (recall) é relativamente baixa (42,2%), indicando que o modelo está perdendo uma quantidade significativa de casos positivos (inadimplentes).\n",
        "\n",
        "*   A alta acurácia sugere que o modelo está correto na maioria das previsões.\n",
        "*   A sensibilidade de 42,2% indica que o modelo está detectando menos da metade dos inadimplentes reais, significando que muitos inadimplentes não estão sendo identificados.\n",
        "*   A precisão de 80,3% indica que quando o modelo prevê inadimplência, ele está certo na maioria das vezes, isso também sugere que muitos inadimplentes não estão sendo previstos (falsos negativos).\n",
        "*   O valor de Log-Loss de 0.034 indica que o modelo está fazendo boas previsões de probabilidade. Valores mais baixos de Log-Loss indicam previsões de probabilidade mais precisas.\n"
      ],
      "metadata": {
        "id": "AiAg0lJbMrD8"
      }
    },
    {
      "cell_type": "markdown",
      "source": [
        "###Regressão com ajuste do limiar de decisão do modelo para aumentar a sensibilidade (recall) e com isso aumentar a detecção de inadimplentes.\n",
        "\n"
      ],
      "metadata": {
        "id": "K_vKbocHUz1n"
      }
    },
    {
      "cell_type": "code",
      "source": [
        "# Ajuste do limiar de decisão\n",
        "threshold = 0.3  # ajustado\n",
        "y_pred_adjusted = (y_pred_proba >= threshold).astype(int)\n",
        "\n",
        "# Recalcular métricas com o novo limiar\n",
        "recall_adjusted = recall_score(y_test, y_pred_adjusted)\n",
        "precision_adjusted = precision_score(y_test, y_pred_adjusted)\n",
        "f1_adjusted = f1_score(y_test, y_pred_adjusted)\n",
        "cm_adjusted = confusion_matrix(y_test, y_pred_adjusted)\n",
        "\n",
        "print(\"\\n\\033[1mMétricas com o novo limiar:\\033[0m\")\n",
        "print(f\"Sensibilidade (Recall): {recall_adjusted:.3f}\")\n",
        "print(f\"Precisão (Precision): {precision_adjusted:.3f}\")\n",
        "print(f\"F1-score: {f1_adjusted:.3f}\")\n",
        "print(\"\\033[1mMatriz de Confusão:\\033[0m\")\n",
        "print(cm_adjusted)\n"
      ],
      "metadata": {
        "colab": {
          "base_uri": "https://localhost:8080/"
        },
        "id": "oWhbFm7mM1EW",
        "outputId": "fc121b5c-267d-4786-8f71-f54e3ac8c1e8"
      },
      "execution_count": null,
      "outputs": [
        {
          "output_type": "stream",
          "name": "stdout",
          "text": [
            "\n",
            "\u001b[1mMétricas com o novo limiar:\u001b[0m\n",
            "Sensibilidade (Recall): 0.615\n",
            "Precisão (Precision): 0.659\n",
            "F1-score: 0.636\n",
            "\u001b[1mMatriz de Confusão:\u001b[0m\n",
            "[[6937   43]\n",
            " [  52   83]]\n"
          ]
        }
      ]
    },
    {
      "cell_type": "markdown",
      "source": [
        "1.   Verdadeiros Negativos (TN): 6937\n",
        "2.   Falsos Positivos (FP): 43\n",
        "3.   Falsos Negativos (FN): 52\n",
        "4.   Verdadeiros Positivos (TP): 83\n",
        "*   Com esse ajuste o modelo passou a detectar a maioria dos inadimplentes (aproximadamente 61,5% dos casos reais de inadimplência).\n",
        "*   A precisão indica que quando o modelo prevê inadimplência, ele está certo em aproximadamente 65,9% das vezes.\n",
        "*   F1-score de 63,6%\n",
        "\n",
        "**Conclusão: Ajustar o limiar de decisão para 0.3 resultou em uma melhora significativa na sensibilidade (recall) do modelo, que agora é de 61,5%, comparado aos 42,2% anteriores. A precisão também aumentou que é sinal de que o modelo está se tornando mais equilibrado em termos de detecção de inadimplentes sem perder muita precisão. O F1-score, que é a média harmônica da precisão e da sensibilidade, também melhorou, indicando um desempenho geral mais equilibrado.**"
      ],
      "metadata": {
        "id": "Q-jxQC-wWIf6"
      }
    },
    {
      "cell_type": "markdown",
      "source": [
        "###Regressão com balanceamento das classes usando SMOTE para melhorar o desempenho do modelo."
      ],
      "metadata": {
        "id": "ZFSnK8QpV6-8"
      }
    },
    {
      "cell_type": "code",
      "source": [
        "# Divisão dos dados em treino e teste\n",
        "X_train, X_test, y_train, y_test = train_test_split(X, y, test_size=0.2, random_state=42, stratify=y)\n",
        "\n",
        "# SMOTE para balanceamento  (Synthetic Minority Over-sampling Technique)\n",
        "smote = SMOTE(random_state=42)\n",
        "X_train_bal, y_train_bal = smote.fit_resample(X_train, y_train)\n",
        "\n",
        "# Normalização das variáveis de entrada\n",
        "scaler = StandardScaler()\n",
        "X_train_bal = scaler.fit_transform(X_train_bal)\n",
        "X_test = scaler.transform(X_test)\n",
        "\n",
        "# Treinamento do modelo de Regressão Logística\n",
        "logreg = LogisticRegression(random_state=42)\n",
        "logreg.fit(X_train_bal, y_train_bal)\n",
        "\n",
        "# Previsão das probabilidades\n",
        "y_pred_proba = logreg.predict_proba(X_test)[:, 1]\n",
        "\n",
        "# Ajuste do limiar de decisão\n",
        "threshold = 0.3  #ajustado\n",
        "y_pred_adjusted = (y_pred_proba >= threshold).astype(int)\n",
        "\n",
        "# Cálculo da matriz de confusão\n",
        "cm_adjusted = confusion_matrix(y_test, y_pred_adjusted)\n",
        "\n",
        "# Métricas de avaliação com o novo limiar\n",
        "accuracy_adjusted = accuracy_score(y_test, y_pred_adjusted)\n",
        "precision_adjusted = precision_score(y_test, y_pred_adjusted)\n",
        "recall_adjusted = recall_score(y_test, y_pred_adjusted)\n",
        "f1_adjusted = f1_score(y_test, y_pred_adjusted)\n",
        "roc_auc_adjusted = roc_auc_score(y_test, y_pred_proba)\n",
        "logloss_adjusted = log_loss(y_test, y_pred_proba)\n",
        "\n",
        "# Exibir matriz de confusão\n",
        "plt.figure(figsize=(8, 6))\n",
        "sns.heatmap(cm_adjusted, annot=True, fmt='d', cmap='Blues', xticklabels=['Previsto: Negativo', 'Previsto: Positivo'], yticklabels=['Real: Negativo', 'Real: Positivo'])\n",
        "plt.title('Matriz de Confusão')\n",
        "plt.show()\n",
        "\n",
        "# Exibir matriz de confusão\n",
        "print(\"\\033[1mMatriz de Confusão:\\033[0m\")\n",
        "print(cm_adjusted)\n",
        "\n",
        "# Métricas de Avaliação do Modelo com o novo limiar\n",
        "print(\"\\n\\033[1mMétricas de Avaliação:\\033[0m\")\n",
        "print(f\"Exatidão (Accuracy): {accuracy_adjusted:.3f}\")\n",
        "print(f\"Precisão (Precision): {precision_adjusted:.3f}\")\n",
        "print(f\"Sensibilidade (Recall): {recall_adjusted:.3f}\")\n",
        "print(f\"F1-score: {f1_adjusted:.3f}\")\n",
        "print(f\"AUC-ROC: {roc_auc_adjusted:.3f}\")\n",
        "print(f\"Log-Loss: {logloss_adjusted:.3f}\")\n",
        "\n",
        "# Exibir relatório de classificação completo com o novo limiar\n",
        "print(\"\\n\\033[1mRelatório de Classificação:\\033[0m\")\n",
        "print(classification_report(y_test, y_pred_adjusted))\n",
        "\n",
        "# Exibir as primeiras 10 probabilidades previstas\n",
        "print(\"\\033[1mPrimeiras 10 probabilidades previstas:\\033[0m\")\n",
        "print(y_pred_proba[:10])\n",
        "\n",
        "# Curva ROC\n",
        "fpr, tpr, thresholds = roc_curve(y_test, y_pred_proba)\n",
        "plt.figure(figsize=(8, 6))\n",
        "plt.plot(fpr, tpr, color='blue', label='ROC curve (area = %0.3f)' % roc_auc_adjusted)\n",
        "plt.plot([0, 1], [0, 1], color='grey', linestyle='--')\n",
        "plt.xlim([0.0, 1.0])\n",
        "plt.ylim([0.0, 1.05])\n",
        "plt.xlabel('False Positive Rate')\n",
        "plt.ylabel('True Positive Rate')\n",
        "plt.title('Receiver Operating Characteristic (ROC) Curve')\n",
        "plt.legend(loc=\"lower right\")\n",
        "plt.show()\n"
      ],
      "metadata": {
        "colab": {
          "base_uri": "https://localhost:8080/",
          "height": 1000
        },
        "id": "eNzM9BWwZGro",
        "outputId": "8b45572f-9b87-46c5-ff19-5c2e98848098"
      },
      "execution_count": null,
      "outputs": [
        {
          "output_type": "display_data",
          "data": {
            "text/plain": [
              "<Figure size 800x600 with 2 Axes>"
            ],
            "image/png": "[encoded data removed]"
          },
          "metadata": {}
        },
        {
          "output_type": "stream",
          "name": "stdout",
          "text": [
            "\u001b[1mMatriz de Confusão:\u001b[0m\n",
            "[[6315  676]\n",
            " [   8  116]]\n",
            "\n",
            "\u001b[1mMétricas de Avaliação:\u001b[0m\n",
            "Exatidão (Accuracy): 0.904\n",
            "Precisão (Precision): 0.146\n",
            "Sensibilidade (Recall): 0.935\n",
            "F1-score: 0.253\n",
            "AUC-ROC: 0.980\n",
            "Log-Loss: 0.198\n",
            "\n",
            "\u001b[1mRelatório de Classificação:\u001b[0m\n",
            "              precision    recall  f1-score   support\n",
            "\n",
            "           0       1.00      0.90      0.95      6991\n",
            "           1       0.15      0.94      0.25       124\n",
            "\n",
            "    accuracy                           0.90      7115\n",
            "   macro avg       0.57      0.92      0.60      7115\n",
            "weighted avg       0.98      0.90      0.94      7115\n",
            "\n",
            "\u001b[1mPrimeiras 10 probabilidades previstas:\u001b[0m\n",
            "[0.01923295 0.02391802 0.01296423 0.08183273 0.22697934 0.12113606\n",
            " 0.23173548 0.02147348 0.00788513 0.11909066]\n"
          ]
        },
        {
          "output_type": "display_data",
          "data": {
            "text/plain": [
              "<Figure size 800x600 with 1 Axes>"
            ],
            "image/png": "[encoded data removed]"
          },
          "metadata": {}
        }
      ]
    },
    {
      "cell_type": "markdown",
      "source": [
        "Embora o ajuste do limiar tenha melhorado a sensibilidade do modelo, o fato de que estar lidando com um conjunto altamente desbalanceado (com apenas 622 casos de inadimplência em 35.575 registros) sugere que o balanceamento das classes deve ser ainda mais crucial. Técnicas de balanceamento de classes podem ajudar a melhorar a capacidade do modelo de detectar inadimplentes, aumentando ainda mais a sensibilidade e potencialmente melhorando outras métricas."
      ],
      "metadata": {
        "id": "ySD0oIq3ZIhB"
      }
    },
    {
      "cell_type": "markdown",
      "source": [
        "1.   Verdadeiros Negativos (TN): 6315\n",
        "2.   Falsos Positivos (FP): 676\n",
        "3.   Falsos Negativos (FN): 8\n",
        "4.   Verdadeiros Positivos (TP): 116\n",
        "*   Sensibilidade (Recall): 0.935\n",
        "*   Precisão (Precision): 0.146\n",
        "\n",
        "**Conclusão: A alta sensibilidade indica que o modelo está detectando a maioria dos inadimplentes, mas a baixa precisão significa que há muitos falsos positivos.**"
      ],
      "metadata": {
        "id": "36Exnxsya31X"
      }
    },
    {
      "cell_type": "markdown",
      "source": [
        "###Regressão com melhoria na precisão implementando o uso de RandomForestClassifier com ajuste de pesos e validação cruzada."
      ],
      "metadata": {
        "id": "F9jRo534gU_G"
      }
    },
    {
      "cell_type": "markdown",
      "source": [
        "Otimização do modelo RandomForestClassifier para classificação de Risco de Crédito com GridSearchCV, uma técnica que busca os melhores parâmetros do modelo para melhor desempenho."
      ],
      "metadata": {
        "id": "VqE57IovlXSe"
      }
    },
    {
      "cell_type": "code",
      "source": [
        "from sklearn.ensemble import RandomForestClassifier\n",
        "from sklearn.model_selection import GridSearchCV, train_test_split\n",
        "\n",
        "# Separar novamente os dados de treinamento e teste\n",
        "X_train, X_test, y_train, y_test = train_test_split(X_train_bal, y_train_bal, test_size=0.2, random_state=42)\n",
        "\n",
        "# Definir o modelo com ajuste de pesos\n",
        "rf = RandomForestClassifier(class_weight='balanced', random_state=42)\n",
        "\n",
        "# Definir a grade de parâmetros para busca\n",
        "param_grid = {\n",
        "    'n_estimators': [100, 200],\n",
        "    'max_depth': [None, 10, 20],\n",
        "    'min_samples_split': [2, 5],\n",
        "    'min_samples_leaf': [1, 2]\n",
        "}\n",
        "\n",
        "# Realizar a busca com validação cruzada\n",
        "#procurar o melhor modelo\n",
        "grid_search = GridSearchCV(estimator=rf, param_grid=param_grid, cv=5, scoring='f1', n_jobs=-1)\n",
        "grid_search.fit(X_train, y_train)\n",
        "\n",
        "# Melhor modelo encontrado\n",
        "best_rf = grid_search.best_estimator_\n",
        "\n",
        "# Previsões com o melhor modelo\n",
        "y_pred_proba_rf = best_rf.predict_proba(X_test)[:, 1]\n",
        "\n",
        "# Ajuste do limiar de decisão (0.3 -> 0.5)\n",
        "threshold_rf = 0.5\n",
        "y_pred_adjusted_rf = (y_pred_proba_rf >= threshold_rf).astype(int)\n",
        "\n",
        "# Cálculo da matriz de confusão\n",
        "cm_adjusted_rf = confusion_matrix(y_test, y_pred_adjusted_rf)\n",
        "\n",
        "# Métricas de avaliação com o novo limiar\n",
        "accuracy_adjusted_rf = accuracy_score(y_test, y_pred_adjusted_rf)\n",
        "precision_adjusted_rf = precision_score(y_test, y_pred_adjusted_rf)\n",
        "recall_adjusted_rf = recall_score(y_test, y_pred_adjusted_rf)\n",
        "f1_adjusted_rf = f1_score(y_test, y_pred_adjusted_rf)\n",
        "roc_auc_adjusted_rf = roc_auc_score(y_test, y_pred_proba_rf)\n",
        "logloss_adjusted_rf = log_loss(y_test, y_pred_proba_rf)\n",
        "\n",
        "# Exibir matriz de confusão\n",
        "plt.figure(figsize=(8, 6))\n",
        "sns.heatmap(cm_adjusted_rf, annot=True, fmt='d', cmap='Blues', xticklabels=['Previsto: Negativo', 'Previsto: Positivo'], yticklabels=['Real: Negativo', 'Real: Positivo'])\n",
        "plt.title('Matriz de Confusão')\n",
        "plt.show()\n",
        "\n",
        "# Exibir as métricas de avaliação com o novo limiar\n",
        "print(\"\\033[1mMétricas de Avaliação:\\033[0m\")\n",
        "print(f\"Exatidão (Accuracy): {accuracy_adjusted_rf:.3f}\")\n",
        "print(f\"Precisão (Precision): {precision_adjusted_rf:.3f}\")\n",
        "print(f\"Sensibilidade (Recall): {recall_adjusted_rf:.3f}\")\n",
        "print(f\"F1-score: {f1_adjusted_rf:.3f}\")\n",
        "print(f\"AUC-ROC: {roc_auc_adjusted_rf:.3f}\")\n",
        "print(f\"Log-Loss: {logloss_adjusted_rf:.3f}\")\n",
        "\n",
        "# Exibir relatório de classificação completo com o novo limiar\n",
        "print(\"\\n\\033[1mRelatório de Classificação:\\033[0m\")\n",
        "print(classification_report(y_test, y_pred_adjusted_rf))\n",
        "\n",
        "# Exibir as primeiras 10 probabilidades previstas\n",
        "print(\"\\033[1mPrimeiras 10 probabilidades previstas:\\033[0m\")\n",
        "print(y_pred_proba_rf[:10])\n"
      ],
      "metadata": {
        "id": "-Oqqs0wFcNao",
        "colab": {
          "base_uri": "https://localhost:8080/",
          "height": 910
        },
        "outputId": "8402ddf2-1cf7-49e2-f45c-35a6b13e8d8f"
      },
      "execution_count": null,
      "outputs": [
        {
          "output_type": "display_data",
          "data": {
            "text/plain": [
              "<Figure size 800x600 with 2 Axes>"
            ],
            "image/png": "[encoded data removed]"
          },
          "metadata": {}
        },
        {
          "output_type": "stream",
          "name": "stdout",
          "text": [
            "\u001b[1mMétricas de Avaliação:\u001b[0m\n",
            "Exatidão (Accuracy): 0.991\n",
            "Precisão (Precision): 0.986\n",
            "Sensibilidade (Recall): 0.996\n",
            "F1-score: 0.991\n",
            "AUC-ROC: 1.000\n",
            "Log-Loss: 0.031\n",
            "\n",
            "\u001b[1mRelatório de Classificação:\u001b[0m\n",
            "              precision    recall  f1-score   support\n",
            "\n",
            "           0       1.00      0.99      0.99      5602\n",
            "           1       0.99      1.00      0.99      5583\n",
            "\n",
            "    accuracy                           0.99     11185\n",
            "   macro avg       0.99      0.99      0.99     11185\n",
            "weighted avg       0.99      0.99      0.99     11185\n",
            "\n",
            "\u001b[1mPrimeiras 10 probabilidades previstas:\u001b[0m\n",
            "[1.         0.         0.97963131 0.         0.99       0.\n",
            " 1.         0.         0.         1.        ]\n"
          ]
        }
      ]
    },
    {
      "cell_type": "markdown",
      "source": [
        "**Os resultados da regressão logística com ajuste de pesos e validação cruzada foram bastante significativos.**\n",
        "\n",
        "*   Aproximadamente 99,1% dos casos foram classificados corretamente pelo modelo. Isso indica uma excelente capacidade de previsão.\n",
        "*   A precisão é de 98,6%, o que significa que quando o modelo prevê que um cliente será inadimplente, ele está correto em 98,6% das vezes.\n",
        "*   A sensibilidade é de 99,6%, indicando que o modelo é capaz de detectar 99,6% dos casos reais de inadimplência.\n",
        "*   O F1-score, que é a média harmônica entre precisão e recall, é de 99,1%. Isso indica um bom equilíbrio entre precisão e recall.\n",
        "*   A área sob a curva ROC é 1, o que indica um modelo perfeito de classificação.\n",
        "*   A log-loss é 0,031, o que é um valor muito baixo e indica que o modelo está fazendo previsões com alta confiança.\n",
        "\n",
        "**Conclusão: Esses últimos resultados sugerem que o modelo é altamente eficaz na classificação de clientes em relação à inadimplência. Ele tem uma precisão muito alta, bem como uma alta sensibilidade, o que é crucial para um modelo de análise de risco de crédito.**\n",
        "\n",
        "\n",
        "\n",
        "\n"
      ],
      "metadata": {
        "id": "as7AEj7Mg1M5"
      }
    },
    {
      "cell_type": "markdown",
      "source": [
        "### Visualização da Curva ROC para Avaliação do Modelo de RandomForestClassifier na Classificação de Risco de Crédito"
      ],
      "metadata": {
        "id": "Pz4nnrEg5tBE"
      }
    },
    {
      "cell_type": "code",
      "source": [
        "from sklearn.metrics import roc_curve, auc\n",
        "\n",
        "# Calcular a curva ROC\n",
        "fpr, tpr, _ = roc_curve(y_test, y_pred_proba_rf)\n",
        "roc_auc = auc(fpr, tpr)\n",
        "\n",
        "# Plot da curva ROC\n",
        "plt.figure(figsize=(8, 6))\n",
        "plt.plot(fpr, tpr, color='darkorange', lw=2, label=f'ROC curve (AUC = {roc_auc:.2f})')\n",
        "plt.plot([0, 1], [0, 1], color='navy', lw=2, linestyle='--')\n",
        "plt.xlim([0.0, 1.0])\n",
        "plt.ylim([0.0, 1.05])\n",
        "plt.xlabel('Taxa de Falsos Positivos')\n",
        "plt.ylabel('Taxa de Verdadeiros Positivos')\n",
        "plt.title('Curva ROC')\n",
        "plt.legend(loc='lower right')\n",
        "plt.show()\n"
      ],
      "metadata": {
        "colab": {
          "base_uri": "https://localhost:8080/",
          "height": 564
        },
        "id": "8hQDcmDS5Asm",
        "outputId": "bba81ffb-0cfa-451c-9d1f-8708d75f4ec4"
      },
      "execution_count": null,
      "outputs": [
        {
          "output_type": "display_data",
          "data": {
            "text/plain": [
              "<Figure size 800x600 with 1 Axes>"
            ],
            "image/png": "[encoded data removed]"
          },
          "metadata": {}
        }
      ]
    },
    {
      "cell_type": "markdown",
      "source": [
        "A curva ROC é uma ferramenta útil para avaliar o desempenho do  modelo de classificação.\n",
        "A área sob a curva (AUC) é uma métrica importante para medir a capacidade discriminativa do modelo. Quanto maior o valor de AUC, melhor o desempenho do modelo na classificação."
      ],
      "metadata": {
        "id": "keKWbFTS5x_M"
      }
    },
    {
      "cell_type": "markdown",
      "source": [
        "### Mitigação do Overfitting em um Modelo de RandomForestClassifier para Análise da Pontuação de Risco de Crédito"
      ],
      "metadata": {
        "id": "RpjJGHKQ8Guw"
      }
    },
    {
      "cell_type": "code",
      "source": [
        "from sklearn.ensemble import RandomForestClassifier\n",
        "from sklearn.model_selection import GridSearchCV, train_test_split\n",
        "from sklearn.metrics import confusion_matrix, accuracy_score, precision_score, recall_score, f1_score, roc_auc_score, log_loss, classification_report\n",
        "import matplotlib.pyplot as plt\n",
        "import seaborn as sns\n",
        "\n",
        "# Separar novamente os dados de treinamento e teste\n",
        "X_train, X_test, y_train, y_test = train_test_split(X_train_bal, y_train_bal, test_size=0.2, random_state=42)\n",
        "\n",
        "# Definir o modelo com ajuste de pesos\n",
        "rf = RandomForestClassifier(class_weight='balanced', random_state=42)\n",
        "\n",
        "# Definir a grade de parâmetros para busca com valores que podem levar ao overfitting\n",
        "param_grid = {\n",
        "    'n_estimators': [500, 1000],  # Aumentar o número de árvores\n",
        "    'max_depth': [50, 100, None],  # Aumentar a profundidade máxima\n",
        "    'min_samples_split': [2],  # Manter o mínimo número de amostras para dividir um nó baixo\n",
        "    'min_samples_leaf': [1]  # Manter o mínimo número de amostras em uma folha baixo\n",
        "}\n",
        "\n",
        "# Realizar a busca com validação cruzada\n",
        "grid_search = GridSearchCV(estimator=rf, param_grid=param_grid, cv=5, scoring='f1', n_jobs=-1)\n",
        "grid_search.fit(X_train, y_train)\n",
        "\n",
        "# Melhor modelo encontrado\n",
        "best_rf = grid_search.best_estimator_\n",
        "\n",
        "# Previsões com o melhor modelo\n",
        "y_pred_proba_rf = best_rf.predict_proba(X_test)[:, 1]\n",
        "\n",
        "# Ajuste do limiar de decisão\n",
        "threshold_rf = 0.5\n",
        "y_pred_adjusted_rf = (y_pred_proba_rf >= threshold_rf).astype(int)\n",
        "\n",
        "# Cálculo da matriz de confusão\n",
        "cm_adjusted_rf = confusion_matrix(y_test, y_pred_adjusted_rf)\n",
        "\n",
        "# Métricas de avaliação com o novo limiar\n",
        "accuracy_adjusted_rf = accuracy_score(y_test, y_pred_adjusted_rf)\n",
        "precision_adjusted_rf = precision_score(y_test, y_pred_adjusted_rf)\n",
        "recall_adjusted_rf = recall_score(y_test, y_pred_adjusted_rf)\n",
        "f1_adjusted_rf = f1_score(y_test, y_pred_adjusted_rf)\n",
        "roc_auc_adjusted_rf = roc_auc_score(y_test, y_pred_proba_rf)\n",
        "logloss_adjusted_rf = log_loss(y_test, y_pred_proba_rf)\n",
        "\n",
        "# Exibir matriz de confusão\n",
        "plt.figure(figsize=(8, 6))\n",
        "sns.heatmap(cm_adjusted_rf, annot=True, fmt='d', cmap='Blues', xticklabels=['Previsto: Negativo', 'Previsto: Positivo'], yticklabels=['Real: Negativo', 'Real: Positivo'])\n",
        "plt.title('Matriz de Confusão')\n",
        "plt.show()\n",
        "\n",
        "# Exibir as métricas de avaliação com o novo limiar\n",
        "print(\"\\033[1mMétricas de Avaliação:\\033[0m\")\n",
        "print(f\"Exatidão (Accuracy): {accuracy_adjusted_rf:.3f}\")\n",
        "print(f\"Precisão (Precision): {precision_adjusted_rf:.3f}\")\n",
        "print(f\"Sensibilidade (Recall): {recall_adjusted_rf:.3f}\")\n",
        "print(f\"F1-score: {f1_adjusted_rf:.3f}\")\n",
        "print(f\"AUC-ROC: {roc_auc_adjusted_rf:.3f}\")\n",
        "print(f\"Log-Loss: {logloss_adjusted_rf:.3f}\")\n",
        "\n",
        "# Exibir relatório de classificação completo com o novo limiar\n",
        "print(\"\\n\\033[1mRelatório de Classificação:\\033[0m\")\n",
        "print(classification_report(y_test, y_pred_adjusted_rf))\n",
        "\n",
        "# Exibir as primeiras 10 probabilidades previstas\n",
        "print(\"\\033[1mPrimeiras 10 probabilidades previstas:\\033[0m\")\n",
        "print(y_pred_proba_rf[:10])\n"
      ],
      "metadata": {
        "id": "CcFSQqVX_p3J"
      },
      "execution_count": null,
      "outputs": []
    },
    {
      "cell_type": "markdown",
      "source": [
        "### **Análise dos Resultados: O Impacto do Overfitting na Precisão Preditiva e Generalização**\n",
        "\n",
        "**Resumo:**\n",
        "\n",
        "\n",
        "Essa aplicação verifica o impacto do overfitting na análise de crédito, comparando dois modelos: um original e outro induzido ao overfitting. As métricas de avaliação no conjunto de teste demonstram desempenho quase perfeito para ambos os modelos, com alta precisão, sensibilidade e AUC-ROC. No entanto, o overfitting pode levar à má generalização para novos dados. A validação cruzada e a simplicidade do modelo original o tornam mais robusto e confiável para uma futura produção.\n",
        "\n",
        "O modelo apresentado do RandomForestClassifier para prever a pontuação de risco de crédito para os clientes obtve uma precisão de 98%. Isso significa que o modelo é capaz de prever corretamente a pontuação de risco de crédito para 98% dos clientes do conjunto de dados de treinamento.\n",
        "\n",
        "\n",
        "**Métricas Chave:**\n",
        "\n",
        "*   **Exatidão (Accuracy):** 0.991 para ambos os modelos\n",
        "*   **Precisão (Precision):** 0.986 para ambos os modelos\n",
        "*   **Sensibilidade (Recall):** 0.997 (overfitting) vs 0.996 (original)\n",
        "*   **F1-score:** 0.991 para ambos os modelos\n",
        "*   **AUC-ROC:** 1.000 para ambos os modelos\n",
        "*   **Log-Loss:** 0.027 (overfitting) vs 0.031 (original)\n",
        "\n",
        "\n",
        "---\n",
        "\n",
        "\n",
        "\n",
        "**Considerações sobre Overfitting:**\n",
        "\n",
        "O overfitting leva a um modelo que se ajusta excessivamente aos dados de treinamento, capturando ruído e particularidades que não se generalizam para novos dados.\n",
        "Métricas perfeitas no conjunto de teste não garantem bom desempenho em produção.\n",
        "A validação cruzada ajuda a mitigar o overfitting, mas não o elimina completamente.\n",
        "Um AUC-ROC de 1.000 pode indicar overfitting, especialmente em modelos complexos.\n",
        "\n",
        "\n",
        "---\n",
        "\n",
        "\n",
        "\n",
        "\n",
        "**Conclusão:**\n",
        "\n",
        "Embora ambos os modelos apresentem alto desempenho, o modelo original com validação cruzada é mais robusto e confiável para produção devido à sua simplicidade e menor risco de overfitting. O modelo com overfitting pode ser útil para explorar os limites do desempenho em um ambiente controlado, mas sua generalização para novos dados é incerta."
      ],
      "metadata": {
        "id": "mzejaAKt5SKV"
      }
    },
    {
      "cell_type": "markdown",
      "source": [
        "#Cálculo do Perfil de Crédito do Cliente com Base em Parâmetros de Risco pré-definido:"
      ],
      "metadata": {
        "id": "s23-97pUGvaa"
      }
    },
    {
      "cell_type": "markdown",
      "source": [
        "Sistema Interativo de Previsão de Risco de Crédito com Widgets"
      ],
      "metadata": {
        "id": "c9Lld4Xj6rr5"
      }
    },
    {
      "cell_type": "markdown",
      "source": [
        "A função calcular_risco_credito avalia o perfil de crédito de um cliente e determina um score de risco e uma categoria de inadimplência com base em critérios específicos através de uma interface simples:"
      ],
      "metadata": {
        "id": "oDkAouXKHeCz"
      }
    },
    {
      "cell_type": "code",
      "source": [
        "import ipywidgets as widgets #Essa interface usa widgets do ipywidgets para criar campos de entrada para os parâmetros\n",
        "from IPython.display import display #Essa função é usada para exibir a interface\n",
        "\n",
        "# Função para calcular a previsão de risco de crédito\n",
        "def calcular_risco_credito(age, last_month_salary, debt_ratio, using_lines_not_secured_personal_assets, total_loan, more_90_days_overdue, default_flag):\n",
        "    # Parâmetros de risco\n",
        "    age_risk = 1 if 21 <= age <= 48 else 0\n",
        "    salary_risk = 1 if 0 <= last_month_salary <= 5400 else 0\n",
        "    debt_ratio_risk = 1 if 0.47 <= debt_ratio <= 5 else 0\n",
        "    using_lines_risk = 1 if 0.65 <= using_lines_not_secured_personal_assets <= 22000.0 else 0\n",
        "    more_90_days_risk = 1 if more_90_days_overdue == 1 else 0\n",
        "\n",
        "    # Cálculo do score de risco\n",
        "    risk_score = age_risk + salary_risk + debt_ratio_risk + using_lines_risk + more_90_days_risk\n",
        "\n",
        "    # Determinação da categoria de risco\n",
        "    if risk_score <= 1:\n",
        "        risk_category = 'Menor Risco de Inadimplência'\n",
        "    elif 1 < risk_score <= 3:\n",
        "        risk_category = 'Risco Moderado a Baixo de Inadimplência'\n",
        "    else:\n",
        "        risk_category = 'Maior Risco de Inadimplência'\n",
        "\n",
        "    return {\n",
        "        'age': age,\n",
        "        'last_month_salary': last_month_salary,\n",
        "        'debt_ratio': debt_ratio,\n",
        "        'using_lines_not_secured_personal_assets': using_lines_not_secured_personal_assets,\n",
        "        'total_loan': total_loan,\n",
        "        'more_90_days_overdue': more_90_days_overdue,\n",
        "        'default_flag': default_flag,\n",
        "        'Score': risk_score,  #Score de risco - soma dos parâmetros acima\n",
        "        'Categoria': risk_category #Categoria de risco - determinada com base no risk_score\n",
        "    }\n",
        "\n",
        "# Widgets para entrada de dados\n",
        "age_input = widgets.IntText(description='Age:')\n",
        "last_month_salary_input = widgets.FloatText(description='Salary:')\n",
        "debt_ratio_input = widgets.FloatText(description='Debt Ratio:')\n",
        "using_lines_input = widgets.FloatText(description='Using Lines:')\n",
        "total_loan_input = widgets.FloatText(description='Total Loans:')\n",
        "more_90_days_input = widgets.Checkbox(description='90+ Days:')\n",
        "default_flag_input = widgets.Checkbox(description='Default Flag')\n",
        "\n",
        "# Botão para calcular\n",
        "button = widgets.Button(description='Calcular Risco')\n",
        "\n",
        "# Função para exibir o resultado\n",
        "def on_button_click(b): #Essa função é associada ao botão de calcular, que lê os valores dos widgets de entrada e chama a função calcular_risco_credito com esses valores\n",
        "    result = calcular_risco_credito(\n",
        "        age_input.value,\n",
        "        last_month_salary_input.value,\n",
        "        debt_ratio_input.value,\n",
        "        using_lines_input.value,\n",
        "        total_loan_input.value,\n",
        "        more_90_days_input.value,\n",
        "        default_flag_input.value\n",
        "    )\n",
        "    output.clear_output() #Limpa a saída anterior\n",
        "    with output: #Exibe os resultados de forma organizada\n",
        "        print(\"DADOS DO CLIENTE:\")\n",
        "        for key, value in result.items():\n",
        "            if key not in ['Score', 'Categoria']:\n",
        "                print(f'{key}: {value}')\n",
        "        print(f\"\\nScore: {result['Score']}\")\n",
        "        print(f\"Categoria: {result['Categoria']}\")\n",
        "\n",
        "# Associa a função ao clique do botão\n",
        "button.on_click(on_button_click)\n",
        "\n",
        "# Layout\n",
        "input_widgets = widgets.VBox([  #Cria um layout vertical com os widgets de entrada e o botão\n",
        "    age_input,  #Idade do cliente\n",
        "    last_month_salary_input, #Salário do último mês\n",
        "    debt_ratio_input, #Taxa de endividamento (relação dívida e renda)\n",
        "    using_lines_input, #Número de linhas de crédito utilizadas\n",
        "    total_loan_input, #Total de empréstimos\n",
        "    more_90_days_input, #Cliente possui dívidas com mais de 90 dias de atraso\n",
        "    default_flag_input, #Cliente já entrou em inadimplência\n",
        "    button\n",
        "])\n",
        "\n",
        "output = widgets.Output() #Cria uma saída para exibir os resultados\n",
        "\n",
        "# Exibir interface\n",
        "display(input_widgets, output) #Exibe os widgets de entrada e a saída\n",
        "\n"
      ],
      "metadata": {
        "colab": {
          "base_uri": "https://localhost:8080/",
          "height": 464,
          "referenced_widgets": [
            "022c56276a6f452188996cd3909d8038",
            "aacb628ffa764c85b5c96e2970d9a683",
            "7c0e1f3d228f48a2958ebb5d6588acbe",
            "192d033bd18c488d84ed0be2a75e9311",
            "e84bbd69142846148e2205f89f22fe48",
            "44cb9017c4b841378105f6beb9c392b5",
            "615af9468aff41b0a19fa2e5bf6a93fe",
            "9f9bc72a7ff8427487e24e5717e39dfd",
            "db561e5a7493406a9a32e322b3442462",
            "7134810e454247c1aa5251fce5116123",
            "4a916cd4f3174cdb88a0022cdbaec1ba",
            "477d064eaef648d089db26806dba9562",
            "1b899cac62a04d78ad8bc3c0a92fbc28",
            "f9a12d9c248b425eb922440a8ff4fed1",
            "ab55e98822c340deaa0b095995bc0767",
            "8c003b932ad949d88410f45bbe1e0eb3",
            "42ca0fdfb4704357991929b761a866a9",
            "4219dc9a8a734aee9699864c3650265b",
            "1eeb3edbeb5948b5b506377e1f2ca837",
            "eb3666b91ac44df89ba5cd732c0f82b8",
            "3fed6c2ca161423d85ae82337a790c74",
            "fdc80c7f82be4f16981c3a77285d121a",
            "efe8bd785ff8478988d29fb46de5f17b",
            "f3229e3d45f5434a9832153332157bab",
            "b3309c3d5e5744b39282a69994fe63ac",
            "b3768810ed6d420bb4e1763f5784152b",
            "a24f10c0fda646958b23f19d800fab5b",
            "812c399c995d4576999a592cf4f46a8b"
          ]
        },
        "id": "0QDzFwNgbfJ2",
        "outputId": "f4fe35ba-188e-42e5-b9c0-ce15ecfaeaf7"
      },
      "execution_count": 1,
      "outputs": [
        {
          "output_type": "display_data",
          "data": {
            "text/plain": [
              "VBox(children=(IntText(value=0, description='Age:'), FloatText(value=0.0, description='Salary:'), FloatText(va…"
            ],
            "application/vnd.jupyter.widget-view+json": {
              "version_major": 2,
              "version_minor": 0,
              "model_id": "022c56276a6f452188996cd3909d8038"
            }
          },
          "metadata": {}
        },
        {
          "output_type": "display_data",
          "data": {
            "text/plain": [
              "Output()"
            ],
            "application/vnd.jupyter.widget-view+json": {
              "version_major": 2,
              "version_minor": 0,
              "model_id": "a24f10c0fda646958b23f19d800fab5b"
            }
          },
          "metadata": {}
        }
      ]
    },
    {
      "cell_type": "markdown",
      "source": [
        "**Parâmetros de risco:**\n",
        "\n",
        "*   **age_risk:** Risco associado à idade (1 se a idade estiver entre 21 e 48 anos, 0 caso contrário).\n",
        "*   **salary_risk:** Risco associado à renda (1 se a renda for menor ou igual a  5.400,00, 0 caso contrário).\n",
        "*   **debt_ratio_risk:** Risco associado à relação dívida/renda (1 se a relação estiver entre 0,47 e 5, 0 caso contrário).\n",
        "*   **using_lines_risk:** Risco associado ao saldo devedor em linhas de crédito não garantidas (1 se o saldo estiver entre 0,65 e 22.000,00, 0 caso contrário).\n",
        "*   **more_90_days_risk:** Risco associado à existência de pendências com mais de 90 dias em atraso (1 se houver pendências, 0 caso contrário).\n",
        "\n",
        "\n",
        "**A função e a interface trabalham juntas para:**\n",
        "1.   Coletar informações sobre o perfil de crédito de um cliente.\n",
        "2.   Calcular um risco de crédito com base em regras definidas.\n",
        "3.   Exibir os resultados de uma forma clara e organizada.\n",
        "\n",
        "\n",
        "\n",
        "\n",
        "\n",
        "\n"
      ],
      "metadata": {
        "id": "EcQIS0nwITox"
      }
    },
    {
      "cell_type": "markdown",
      "source": [
        "# Vizualizações"
      ],
      "metadata": {
        "id": "x-xJBZSF4Fye"
      }
    },
    {
      "cell_type": "code",
      "source": [
        "#Grafico de probabilidade - Modelo de regressão logística\n",
        "logistic_model = LogisticRegression()\n",
        "logistic_model.fit(df[['risk_score']], df['default_flag'])\n",
        "\n",
        "probabilities = logistic_model.predict_proba(df[['risk_score']])[:, 1]\n",
        "\n",
        "# Plotando o gráfico de dispersão\n",
        "plt.figure(figsize=(8, 4))\n",
        "\n",
        "# Pontos de dados reais\n",
        "plt.scatter(df['risk_score'], df['default_flag'], alpha=0.5, color='blue', label='Dados reais')\n",
        "\n",
        "# Adicionando a curva de probabilidade da regressão logística\n",
        "sorted_indices = np.argsort(df['risk_score'])\n",
        "sorted_score_dummy = df['risk_score'].iloc[sorted_indices]\n",
        "sorted_probabilities = probabilities[sorted_indices]\n",
        "plt.plot(sorted_score_dummy, sorted_probabilities, color='red', label='Probabilidade prevista de inadimplência')\n",
        "\n",
        "# Títulos e rótulos\n",
        "plt.title('Gráfico de dispersão')\n",
        "plt.xlabel('Score')\n",
        "plt.ylabel('Taxa de inadimplência')\n",
        "\n",
        "# Legendas\n",
        "plt.legend()\n",
        "\n",
        "# Exibindo o gráfico\n",
        "plt.legend()\n",
        "\n",
        "plt.show()"
      ],
      "metadata": {
        "colab": {
          "base_uri": "https://localhost:8080/",
          "height": 411
        },
        "id": "cD0wbQdX3PvM",
        "outputId": "fbf5b8b1-0c91-4ae6-ed26-376a429476ad"
      },
      "execution_count": null,
      "outputs": [
        {
          "output_type": "display_data",
          "data": {
            "text/plain": [
              "<Figure size 800x400 with 1 Axes>"
            ],
            "image/png": "[encoded data removed]"
          },
          "metadata": {}
        }
      ]
    },
    {
      "cell_type": "markdown",
      "source": [
        "Esse gráfico mostra a relação entre o Sscore e a Taxa de Inadimplência:\n",
        "* Pontos azuis acima da linha vermelha indicam clientes com alto \"score de risco\" e alta probabilidade de inadimplência.\n",
        "* Pontos azuis abaixo da linha vermelha indicam clientes com baixo \"score de risco\" e baixa probabilidade de inadimplência.\n",
        "* A curva vermelha representa a probabilidade média prevista de inadimplência para diferentes valores do \"score de risco\"."
      ],
      "metadata": {
        "id": "prip8t7s3XmG"
      }
    },
    {
      "cell_type": "code",
      "source": [
        "import matplotlib.pyplot as plt\n",
        "\n",
        "#Distribuição por Idade\n",
        "plt.figure(figsize=(6, 4))\n",
        "df['age'].hist(bins=20)\n",
        "plt.title('Distribuição por Idade')\n",
        "plt.xlabel('Idade')\n",
        "plt.ylabel('Quantidade')\n",
        "plt.show()"
      ],
      "metadata": {
        "colab": {
          "base_uri": "https://localhost:8080/",
          "height": 410
        },
        "id": "pgvBG-5h4H7J",
        "outputId": "3cb7cb1c-1c07-4be6-ecec-23bb5623a140"
      },
      "execution_count": null,
      "outputs": [
        {
          "output_type": "display_data",
          "data": {
            "text/plain": [
              "<Figure size 600x400 with 1 Axes>"
            ],
            "image/png": "[encoded data removed]"
          },
          "metadata": {}
        }
      ]
    },
    {
      "cell_type": "code",
      "source": [
        "df_full = pd.read_csv('user_info.csv')\n",
        "\n",
        "#Distribuição por Gênero\n",
        "gender_counts = df_full['sex'].value_counts()\n",
        "plt.figure(figsize=(6, 6))\n",
        "plt.pie(gender_counts, labels=gender_counts.index, autopct='%1.1f%%')\n",
        "plt.title('Distribuição por Gênero')\n",
        "plt.show()\n"
      ],
      "metadata": {
        "colab": {
          "base_uri": "https://localhost:8080/",
          "height": 521
        },
        "id": "gEf607tx_AZy",
        "outputId": "e1b9e5ec-d98f-4c06-a082-83ba3cbae5be"
      },
      "execution_count": null,
      "outputs": [
        {
          "output_type": "display_data",
          "data": {
            "text/plain": [
              "<Figure size 600x600 with 1 Axes>"
            ],
            "image/png": "[encoded data removed]"
          },
          "metadata": {}
        }
      ]
    },
    {
      "cell_type": "code",
      "source": [
        "#Gráfico de Dispersão\n",
        "#Relação Dívida/Salário\n",
        "plt.figure(figsize=(6, 4))\n",
        "plt.scatter(df['debt_ratio'], df['last_month_salary'], c=df['default_flag'])\n",
        "plt.title('Relação Dívida/Salário e Inadimplência')\n",
        "plt.xlabel('Relação Dívida/Salário')\n",
        "plt.ylabel('Salário do Último Mês')\n",
        "plt.show()\n"
      ],
      "metadata": {
        "colab": {
          "base_uri": "https://localhost:8080/",
          "height": 411
        },
        "id": "yI-wvbaf__rI",
        "outputId": "640071b6-906e-4b35-cd21-320b55dc6a23"
      },
      "execution_count": null,
      "outputs": [
        {
          "output_type": "display_data",
          "data": {
            "text/plain": [
              "<Figure size 600x400 with 1 Axes>"
            ],
            "image/png": "[encoded data removed]"
          },
          "metadata": {}
        }
      ]
    },
    {
      "cell_type": "markdown",
      "source": [
        "Cada ponto no gráfico representa um registro da amostra.\n",
        "\n",
        "A concentração dos pontos na área com baixo salário do último mês pode indicar que a inadimplência está mais relacionada à falta de capacidade de pagamento do que à quantidade de dívidas em si.\n",
        "\n",
        "Este gráfico é uma ferramenta útil para visualizar e analisar a relação entre essas variáveis, e pode auxiliar a análise do risco de crédito e no desenvolvimento de estratégias para reduzir a inadimplência."
      ],
      "metadata": {
        "id": "yKEgaLGaDgN-"
      }
    },
    {
      "cell_type": "code",
      "source": [
        "#Gráfico de Dispersão\n",
        "#Relação Salário/Atraso de +90 dias de pagamento\n",
        "plt.figure(figsize=(6, 4))\n",
        "plt.scatter(df['last_month_salary'], df['more_90_days_overdue'], c=df['default_flag'])\n",
        "plt.title('Relação Salário/Atraso de +90 e Inadimplência')\n",
        "plt.xlabel('Relação Salário/+90 dias atraso')\n",
        "plt.ylabel('Atraso de +90 dias de pagamento')\n",
        "plt.show()"
      ],
      "metadata": {
        "colab": {
          "base_uri": "https://localhost:8080/",
          "height": 411
        },
        "id": "nkul5uv8K8TE",
        "outputId": "aae15b85-dfbf-438b-802e-5626bd9014e3"
      },
      "execution_count": null,
      "outputs": [
        {
          "output_type": "display_data",
          "data": {
            "text/plain": [
              "<Figure size 600x400 with 1 Axes>"
            ],
            "image/png": "[encoded data removed]"
          },
          "metadata": {}
        }
      ]
    },
    {
      "cell_type": "markdown",
      "source": [
        "A concentração dos pontos sugere que existe uma correlação entre as duas variáveis salário do último mês e atraso em pagamentos com mais de 90 dias mas não implica necessariamente causalidade.\n",
        "\n",
        "A distribuição perto dos eixos sugere que clientes com menor salário tendem a ter valores mais altos de atraso em pagamentos com mais de 90 dias."
      ],
      "metadata": {
        "id": "wEz8wk83mvw9"
      }
    }
  ]
}